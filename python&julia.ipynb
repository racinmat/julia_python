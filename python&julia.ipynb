{
 "cells": [
  {
   "cell_type": "code",
   "execution_count": 1,
   "id": "8eb5a455-d071-441f-b92b-11183591b3e0",
   "metadata": {},
   "outputs": [
    {
     "name": "stdout",
     "output_type": "stream",
     "text": [
      "Looking in indexes: https://pypi.org/simple, https://artifactory.ida.avast.com/artifactory/api/pypi/pypi-local/simple\n",
      "Requirement already satisfied: julia in c:\\tools\\miniconda3\\envs\\julia_python\\lib\\site-packages (0.5.7)\n"
     ]
    }
   ],
   "source": [
    "!pip install julia"
   ]
  },
  {
   "cell_type": "code",
   "execution_count": 2,
   "id": "7cd63c7d-e1e4-47ef-a0c1-ab84c393b70d",
   "metadata": {},
   "outputs": [],
   "source": [
    "import numpy as np"
   ]
  },
  {
   "cell_type": "code",
   "execution_count": 3,
   "id": "1ab3bcb2-985c-4383-a102-2568bf06ee19",
   "metadata": {},
   "outputs": [],
   "source": [
    "import julia\n",
    "julia.install('C:\\\\Users\\\\racinsky\\\\AppData\\\\Local\\\\Programs\\\\Julia-1.7.3\\\\bin\\\\julia.exe')"
   ]
  },
  {
   "cell_type": "code",
   "execution_count": 4,
   "id": "dc483968-fec4-4c36-abfb-b1a4869d3783",
   "metadata": {},
   "outputs": [
    {
     "name": "stderr",
     "output_type": "stream",
     "text": [
      "C:\\tools\\miniconda3\\envs\\julia_python\\lib\\site-packages\\julia\\core.py:703: FutureWarning: Accessing `Julia().<name>` to obtain Julia objects is deprecated.  Use `from julia import Main; Main.<name>` or `jl = Julia(); jl.eval('<name>')`.\n",
      "  warnings.warn(\n"
     ]
    },
    {
     "data": {
      "text/plain": [
       "<julia.core.LegacyJulia at 0x26c5cbc5580>"
      ]
     },
     "execution_count": 4,
     "metadata": {},
     "output_type": "execute_result"
    }
   ],
   "source": [
    "from julia import Julia\n",
    "Julia(runtime='C:\\\\Users\\\\racinsky\\\\AppData\\\\Local\\\\Programs\\\\Julia-1.7.3\\\\bin\\\\julia.exe')"
   ]
  },
  {
   "cell_type": "code",
   "execution_count": null,
   "outputs": [],
   "source": [
    "from julia import Base, Main, Pkg, PyCall"
   ],
   "metadata": {
    "collapsed": false,
    "pycharm": {
     "name": "#%%\n"
    }
   }
  },
  {
   "cell_type": "code",
   "execution_count": null,
   "outputs": [],
   "source": [
    "Pkg.activate(\".\")"
   ],
   "metadata": {
    "collapsed": false,
    "pycharm": {
     "name": "#%%\n"
    }
   }
  },
  {
   "cell_type": "code",
   "execution_count": null,
   "outputs": [],
   "source": [
    "from julia import Zygote"
   ],
   "metadata": {
    "collapsed": false,
    "pycharm": {
     "name": "#%%\n"
    }
   }
  },
  {
   "cell_type": "code",
   "execution_count": null,
   "outputs": [],
   "source": [
    "Base.sind(90)"
   ],
   "metadata": {
    "collapsed": false,
    "pycharm": {
     "name": "#%%\n"
    }
   }
  },
  {
   "cell_type": "code",
   "execution_count": null,
   "outputs": [],
   "source": [
    "Main.xs = [1, 2, 3]\n",
    "Main.eval(\"sin.(xs)\")"
   ],
   "metadata": {
    "collapsed": false,
    "pycharm": {
     "name": "#%%\n"
    }
   }
  },
  {
   "cell_type": "code",
   "execution_count": null,
   "outputs": [],
   "source": [
    "%load_ext julia.magic"
   ],
   "metadata": {
    "collapsed": false,
    "pycharm": {
     "name": "#%%\n"
    }
   }
  },
  {
   "cell_type": "code",
   "execution_count": null,
   "outputs": [],
   "source": [
    "%julia [1 2; 3 4] .+ 1"
   ],
   "metadata": {
    "collapsed": false,
    "pycharm": {
     "name": "#%%\n"
    }
   }
  },
  {
   "cell_type": "code",
   "execution_count": null,
   "outputs": [],
   "source": [
    "x = np.array([2.,1.])"
   ],
   "metadata": {
    "collapsed": false,
    "pycharm": {
     "name": "#%%\n"
    }
   }
  },
  {
   "cell_type": "code",
   "execution_count": null,
   "outputs": [],
   "source": [
    "c = np.array([1., 2.])"
   ],
   "metadata": {
    "collapsed": false,
    "pycharm": {
     "name": "#%%\n"
    }
   }
  },
  {
   "cell_type": "code",
   "execution_count": null,
   "outputs": [],
   "source": [
    "Q = np.array([[2., 3.], [4., 5.]])"
   ],
   "metadata": {
    "collapsed": false,
    "pycharm": {
     "name": "#%%\n"
    }
   }
  },
  {
   "cell_type": "code",
   "execution_count": 23,
   "id": "5944a9a9-0a17-4e33-bd61-7a2597dcf71f",
   "metadata": {},
   "outputs": [
    {
     "data": {
      "text/plain": [
       "array([ 8.5, 14. ])"
      ]
     },
     "execution_count": 23,
     "metadata": {},
     "output_type": "execute_result"
    }
   ],
   "source": [
    "Zygote.gradient(loss_f, x)[0]"
   ]
  },
  {
   "cell_type": "code",
   "execution_count": 24,
   "id": "024224bf-70e2-463a-8554-0c196679de28",
   "metadata": {},
   "outputs": [],
   "source": [
    "def mul2(x):\n",
    "    return x*2"
   ]
  },
  {
   "cell_type": "code",
   "execution_count": 25,
   "id": "2664da3e-5fae-4e48-b655-f91b16c39472",
   "metadata": {},
   "outputs": [
    {
     "data": {
      "text/plain": [
       "10"
      ]
     },
     "execution_count": 25,
     "metadata": {},
     "output_type": "execute_result"
    }
   ],
   "source": [
    "%julia py\"mul2(5)\""
   ]
  },
  {
   "cell_type": "code",
   "execution_count": null,
   "id": "2525a430-142b-47be-ad43-da8fb03d2e1f",
   "metadata": {},
   "outputs": [],
   "source": []
  }
 ],
 "metadata": {
  "kernelspec": {
   "display_name": "Python 3 (ipykernel)",
   "language": "python",
   "name": "python3"
  },
  "language_info": {
   "codemirror_mode": {
    "name": "ipython",
    "version": 3
   },
   "file_extension": ".py",
   "mimetype": "text/x-python",
   "name": "python",
   "nbconvert_exporter": "python",
   "pygments_lexer": "ipython3",
   "version": "3.9.12"
  }
 },
 "nbformat": 4,
 "nbformat_minor": 5
}