{
 "cells": [
  {
   "cell_type": "markdown",
   "metadata": {},
   "source": [
    "# Mutagenesis Example in Python\n",
    "\n",
    "Following example is the same as the julia version of the \n",
    "Following example demonstrates learning to predict the mutagenicity on Salmonella typhimurium using the [JuliaPy/pyjulia](https://github.com/JuliaPy/pyjulia), and demonstrates how can the JsonGrinder.jl be used entirely from python.\n",
    "\n",
    "We start by installing the pyjulia and use it to install the JsonGrinder and few other packages we need for the example."
   ]
  },
  {
   "cell_type": "code",
   "execution_count": 1,
   "metadata": {},
   "outputs": [
    {
     "name": "stdout",
     "output_type": "stream",
     "text": [
      "Requirement already satisfied: julia in c:\\users\\azathoth\\.conda\\envs\\julia_python\\lib\\site-packages (0.5.7)\n"
     ]
    }
   ],
   "source": [
    "!pip install julia"
   ]
  },
  {
   "cell_type": "code",
   "execution_count": 2,
   "metadata": {},
   "outputs": [],
   "source": [
    "import julia"
   ]
  },
  {
   "cell_type": "code",
   "execution_count": 4,
   "metadata": {},
   "outputs": [
    {
     "name": "stderr",
     "output_type": "stream",
     "text": [
      "\n",
      "Precompiling PyCall...\n",
      "Precompiling PyCall... DONE\n",
      "PyCall is installed and built successfully.\n",
      "\n",
      "PyCall is setup for non-default Julia runtime (executable) `C:\\Users\\Azathoth\\AppData\\Local\\Programs\\Julia-1.7.3\\bin\\julia.exe`.\n",
      "To use this Julia runtime, PyJulia has to be initialized first by\n",
      "    from julia import Julia\n",
      "    Julia(runtime='C:\\\\Users\\\\Azathoth\\\\AppData\\\\Local\\\\Programs\\\\Julia-1.7.3\\\\bin\\\\julia.exe')\n"
     ]
    }
   ],
   "source": [
    "julia.install('C:\\\\Users\\\\Azathoth\\\\AppData\\\\Local\\\\Programs\\\\Julia-1.7.3\\\\bin\\\\julia.exe')"
   ]
  },
  {
   "cell_type": "code",
   "execution_count": 5,
   "metadata": {},
   "outputs": [
    {
     "name": "stderr",
     "output_type": "stream",
     "text": [
      "C:\\Users\\Azathoth\\.conda\\envs\\julia_python\\lib\\site-packages\\julia\\core.py:703: FutureWarning: Accessing `Julia().<name>` to obtain Julia objects is deprecated.  Use `from julia import Main; Main.<name>` or `jl = Julia(); jl.eval('<name>')`.\n",
      "  warnings.warn(\n"
     ]
    },
    {
     "data": {
      "text/plain": [
       "<julia.core.LegacyJulia at 0x1cdeb8b34f0>"
      ]
     },
     "execution_count": 5,
     "metadata": {},
     "output_type": "execute_result"
    }
   ],
   "source": [
    "from julia import Julia\n",
    "#Julia(compiled_modules=False)\n",
    "Julia(runtime='C:\\\\Users\\\\Azathoth\\\\AppData\\\\Local\\\\Programs\\\\Julia-1.7.3\\\\bin\\\\julia.exe')"
   ]
  },
  {
   "cell_type": "markdown",
   "metadata": {},
   "source": [
    "We check that the correct version of Julia was installed. We need julia 1.6 or newer."
   ]
  },
  {
   "cell_type": "code",
   "execution_count": 6,
   "metadata": {},
   "outputs": [
    {
     "data": {
      "text/plain": [
       "<PyCall.jlwrap 1.7.3>"
      ]
     },
     "execution_count": 6,
     "metadata": {},
     "output_type": "execute_result"
    }
   ],
   "source": [
    "from julia import Base\n",
    "Base.VERSION"
   ]
  },
  {
   "cell_type": "markdown",
   "metadata": {},
   "source": [
    "We install the packages using the julia package manager called from python\n",
    "\n",
    "Executing the following line may take few minutes, because the package manager needs to resolve proper versions."
   ]
  },
  {
   "cell_type": "code",
   "execution_count": 7,
   "metadata": {
    "scrolled": true
   },
   "outputs": [],
   "source": [
    "from julia import Pkg\n",
    "Pkg.add(\"MLDatasets\")\n",
    "Pkg.add(\"Flux\")\n",
    "Pkg.add(\"Mill\")\n",
    "Pkg.add(\"MLDataPattern\")\n",
    "Pkg.add(\"Statistics\")\n",
    "Pkg.add(name=\"JsonGrinder\", rev=\"master\")\n"
   ]
  },
  {
   "cell_type": "markdown",
   "metadata": {},
   "source": [
    "Here we include libraries all necessary libraries\n",
    "\n",
    "Executing the following cell may take few minutes to finish, which is expected, because there is lots of code being precompiled."
   ]
  },
  {
   "cell_type": "code",
   "execution_count": 8,
   "metadata": {},
   "outputs": [],
   "source": [
    "from julia import JsonGrinder, MLDatasets, Flux, Mill, MLDataPattern, Statistics"
   ]
  },
  {
   "cell_type": "markdown",
   "metadata": {},
   "source": [
    "Here we load all samples.\n",
    "\n",
    "In order to download datasets automatically from jupyter notebook, make sure the environment variable `DATADEPS_ALWAYS_ACCEPT` is present and set to true. E.g. using this if you run the notebook from docker compose\n",
    "```\n",
    "services:\n",
    "  ...\n",
    "    environment:\n",
    "      - DATADEPS_ALWAYS_ACCEPT=true\n",
    "```\n"
   ]
  },
  {
   "cell_type": "code",
   "execution_count": 47,
   "metadata": {},
   "outputs": [],
   "source": [
    "Base.ENV = Base.merge(Base.ENV, {\"DATADEPS_ALWAYS_ACCEPT\": True})"
   ]
  },
  {
   "cell_type": "code",
   "execution_count": null,
   "outputs": [],
   "source": [
    "from julia import Main, Base\n",
    "Main.a_dict = Base.Dict()\n",
    "Main.a_dict"
   ],
   "metadata": {
    "collapsed": false,
    "pycharm": {
     "name": "#%%\n"
    }
   }
  },
  {
   "cell_type": "code",
   "execution_count": null,
   "outputs": [],
   "source": [
    "Main.a_dict[\"a\"] = True\n",
    "Main.a_dict"
   ],
   "metadata": {
    "collapsed": false,
    "pycharm": {
     "name": "#%%\n"
    }
   }
  },
  {
   "cell_type": "code",
   "execution_count": null,
   "metadata": {},
   "outputs": [],
   "source": []
  },
  {
   "cell_type": "code",
   "execution_count": 49,
   "metadata": {},
   "outputs": [
    {
     "ename": "RuntimeError",
     "evalue": "<PyCall.jlwrap (in a Julia function called from Python)\nJULIA: IOError: Could not open stream.\nStacktrace:\n  [1] better_readline(stream::Base.PipeEndpoint)\n    @ DataDeps C:\\Users\\Azathoth\\.julia\\packages\\DataDeps\\jDkzU\\src\\util.jl:57\n  [2] better_readline()\n    @ DataDeps C:\\Users\\Azathoth\\.julia\\packages\\DataDeps\\jDkzU\\src\\util.jl:55\n  [3] input_choice(::String, ::Char, ::Vararg{Char})\n    @ DataDeps C:\\Users\\Azathoth\\.julia\\packages\\DataDeps\\jDkzU\\src\\util.jl:82\n  [4] input_bool\n    @ C:\\Users\\Azathoth\\.julia\\packages\\DataDeps\\jDkzU\\src\\util.jl:70 [inlined]\n  [5] check_if_accept_terms(datadep::DataDeps.DataDep{String, Vector{String}, typeof(DataDeps.fetch_default), typeof(identity)}, localpath::String, remotepath::Vector{String})\n    @ DataDeps C:\\Users\\Azathoth\\.julia\\packages\\DataDeps\\jDkzU\\src\\resolution_automatic.jl:180\n  [6] accept_terms\n    @ C:\\Users\\Azathoth\\.julia\\packages\\DataDeps\\jDkzU\\src\\resolution_automatic.jl:163 [inlined]\n  [7] download(datadep::DataDeps.DataDep{String, Vector{String}, typeof(DataDeps.fetch_default), typeof(identity)}, localdir::String; remotepath::Vector{String}, i_accept_the_terms_of_use::Nothing, skip_checksum::Bool)\n    @ DataDeps C:\\Users\\Azathoth\\.julia\\packages\\DataDeps\\jDkzU\\src\\resolution_automatic.jl:72\n  [8] download\n    @ C:\\Users\\Azathoth\\.julia\\packages\\DataDeps\\jDkzU\\src\\resolution_automatic.jl:70 [inlined]\n  [9] handle_missing\n    @ C:\\Users\\Azathoth\\.julia\\packages\\DataDeps\\jDkzU\\src\\resolution_automatic.jl:10 [inlined]\n [10] _resolve\n    @ C:\\Users\\Azathoth\\.julia\\packages\\DataDeps\\jDkzU\\src\\resolution.jl:83 [inlined]\n [11] resolve(datadep::DataDeps.DataDep{String, Vector{String}, typeof(DataDeps.fetch_default), typeof(identity)}, inner_filepath::String, calling_filepath::String)\n    @ DataDeps C:\\Users\\Azathoth\\.julia\\packages\\DataDeps\\jDkzU\\src\\resolution.jl:29\n [12] resolve(datadep_name::String, inner_filepath::String, calling_filepath::String)\n    @ DataDeps C:\\Users\\Azathoth\\.julia\\packages\\DataDeps\\jDkzU\\src\\resolution.jl:54\n [13] resolve\n    @ C:\\Users\\Azathoth\\.julia\\packages\\DataDeps\\jDkzU\\src\\resolution.jl:73 [inlined]\n [14] #2\n    @ C:\\Users\\Azathoth\\.julia\\packages\\MLDatasets\\PtJ0E\\src\\download.jl:17 [inlined]\n [15] withenv(f::MLDatasets.var\"#2#3\"{String, Nothing}, keyvals::Pair{String, String})\n    @ Base .\\env.jl:172\n [16] with_accept\n    @ C:\\Users\\Azathoth\\.julia\\packages\\MLDatasets\\PtJ0E\\src\\download.jl:10 [inlined]\n [17] #datadir#1\n    @ C:\\Users\\Azathoth\\.julia\\packages\\MLDatasets\\PtJ0E\\src\\download.jl:14 [inlined]\n [18] datadir\n    @ C:\\Users\\Azathoth\\.julia\\packages\\MLDatasets\\PtJ0E\\src\\download.jl:14 [inlined]\n [19] datafile(depname::String, filename::String, dir::Nothing; recurse::Bool, kw::Base.Pairs{Symbol, Union{}, Tuple{}, NamedTuple{(), Tuple{}}})\n    @ MLDatasets C:\\Users\\Azathoth\\.julia\\packages\\MLDatasets\\PtJ0E\\src\\download.jl:32\n [20] datafile\n    @ C:\\Users\\Azathoth\\.julia\\packages\\MLDatasets\\PtJ0E\\src\\download.jl:32 [inlined]\n [21] load_data(dir::Nothing)\n    @ MLDatasets.Mutagenesis C:\\Users\\Azathoth\\.julia\\packages\\MLDatasets\\PtJ0E\\src\\Mutagenesis\\Mutagenesis.jl:81\n [22] traindata(dir::Nothing)\n    @ MLDatasets.Mutagenesis C:\\Users\\Azathoth\\.julia\\packages\\MLDatasets\\PtJ0E\\src\\Mutagenesis\\Mutagenesis.jl:66\n [23] #traindata#1\n    @ C:\\Users\\Azathoth\\.julia\\packages\\MLDatasets\\PtJ0E\\src\\Mutagenesis\\Mutagenesis.jl:61 [inlined]\n [24] traindata()\n    @ MLDatasets.Mutagenesis C:\\Users\\Azathoth\\.julia\\packages\\MLDatasets\\PtJ0E\\src\\Mutagenesis\\Mutagenesis.jl:61\n [25] #invokelatest#2\n    @ .\\essentials.jl:716 [inlined]\n [26] invokelatest(::Any)\n    @ Base .\\essentials.jl:714\n [27] _pyjlwrap_call(f::Function, args_::Ptr{PyCall.PyObject_struct}, kw_::Ptr{PyCall.PyObject_struct})\n    @ PyCall C:\\Users\\Azathoth\\.julia\\packages\\PyCall\\7a7w0\\src\\callback.jl:28\n [28] pyjlwrap_call(self_::Ptr{PyCall.PyObject_struct}, args_::Ptr{PyCall.PyObject_struct}, kw_::Ptr{PyCall.PyObject_struct})\n    @ PyCall C:\\Users\\Azathoth\\.julia\\packages\\PyCall\\7a7w0\\src\\callback.jl:44>",
     "output_type": "error",
     "traceback": [
      "\u001B[1;31m---------------------------------------------------------------------------\u001B[0m",
      "\u001B[1;31mRuntimeError\u001B[0m                              Traceback (most recent call last)",
      "Input \u001B[1;32mIn [49]\u001B[0m, in \u001B[0;36m<cell line: 1>\u001B[1;34m()\u001B[0m\n\u001B[1;32m----> 1\u001B[0m train_x, train_y \u001B[38;5;241m=\u001B[39m \u001B[43mMLDatasets\u001B[49m\u001B[38;5;241;43m.\u001B[39;49m\u001B[43mMutagenesis\u001B[49m\u001B[38;5;241;43m.\u001B[39;49m\u001B[43mtraindata\u001B[49m\u001B[43m(\u001B[49m\u001B[43m)\u001B[49m;\n\u001B[0;32m      2\u001B[0m test_x, test_y \u001B[38;5;241m=\u001B[39m MLDatasets\u001B[38;5;241m.\u001B[39mMutagenesis\u001B[38;5;241m.\u001B[39mtestdata()\n",
      "\u001B[1;31mRuntimeError\u001B[0m: <PyCall.jlwrap (in a Julia function called from Python)\nJULIA: IOError: Could not open stream.\nStacktrace:\n  [1] better_readline(stream::Base.PipeEndpoint)\n    @ DataDeps C:\\Users\\Azathoth\\.julia\\packages\\DataDeps\\jDkzU\\src\\util.jl:57\n  [2] better_readline()\n    @ DataDeps C:\\Users\\Azathoth\\.julia\\packages\\DataDeps\\jDkzU\\src\\util.jl:55\n  [3] input_choice(::String, ::Char, ::Vararg{Char})\n    @ DataDeps C:\\Users\\Azathoth\\.julia\\packages\\DataDeps\\jDkzU\\src\\util.jl:82\n  [4] input_bool\n    @ C:\\Users\\Azathoth\\.julia\\packages\\DataDeps\\jDkzU\\src\\util.jl:70 [inlined]\n  [5] check_if_accept_terms(datadep::DataDeps.DataDep{String, Vector{String}, typeof(DataDeps.fetch_default), typeof(identity)}, localpath::String, remotepath::Vector{String})\n    @ DataDeps C:\\Users\\Azathoth\\.julia\\packages\\DataDeps\\jDkzU\\src\\resolution_automatic.jl:180\n  [6] accept_terms\n    @ C:\\Users\\Azathoth\\.julia\\packages\\DataDeps\\jDkzU\\src\\resolution_automatic.jl:163 [inlined]\n  [7] download(datadep::DataDeps.DataDep{String, Vector{String}, typeof(DataDeps.fetch_default), typeof(identity)}, localdir::String; remotepath::Vector{String}, i_accept_the_terms_of_use::Nothing, skip_checksum::Bool)\n    @ DataDeps C:\\Users\\Azathoth\\.julia\\packages\\DataDeps\\jDkzU\\src\\resolution_automatic.jl:72\n  [8] download\n    @ C:\\Users\\Azathoth\\.julia\\packages\\DataDeps\\jDkzU\\src\\resolution_automatic.jl:70 [inlined]\n  [9] handle_missing\n    @ C:\\Users\\Azathoth\\.julia\\packages\\DataDeps\\jDkzU\\src\\resolution_automatic.jl:10 [inlined]\n [10] _resolve\n    @ C:\\Users\\Azathoth\\.julia\\packages\\DataDeps\\jDkzU\\src\\resolution.jl:83 [inlined]\n [11] resolve(datadep::DataDeps.DataDep{String, Vector{String}, typeof(DataDeps.fetch_default), typeof(identity)}, inner_filepath::String, calling_filepath::String)\n    @ DataDeps C:\\Users\\Azathoth\\.julia\\packages\\DataDeps\\jDkzU\\src\\resolution.jl:29\n [12] resolve(datadep_name::String, inner_filepath::String, calling_filepath::String)\n    @ DataDeps C:\\Users\\Azathoth\\.julia\\packages\\DataDeps\\jDkzU\\src\\resolution.jl:54\n [13] resolve\n    @ C:\\Users\\Azathoth\\.julia\\packages\\DataDeps\\jDkzU\\src\\resolution.jl:73 [inlined]\n [14] #2\n    @ C:\\Users\\Azathoth\\.julia\\packages\\MLDatasets\\PtJ0E\\src\\download.jl:17 [inlined]\n [15] withenv(f::MLDatasets.var\"#2#3\"{String, Nothing}, keyvals::Pair{String, String})\n    @ Base .\\env.jl:172\n [16] with_accept\n    @ C:\\Users\\Azathoth\\.julia\\packages\\MLDatasets\\PtJ0E\\src\\download.jl:10 [inlined]\n [17] #datadir#1\n    @ C:\\Users\\Azathoth\\.julia\\packages\\MLDatasets\\PtJ0E\\src\\download.jl:14 [inlined]\n [18] datadir\n    @ C:\\Users\\Azathoth\\.julia\\packages\\MLDatasets\\PtJ0E\\src\\download.jl:14 [inlined]\n [19] datafile(depname::String, filename::String, dir::Nothing; recurse::Bool, kw::Base.Pairs{Symbol, Union{}, Tuple{}, NamedTuple{(), Tuple{}}})\n    @ MLDatasets C:\\Users\\Azathoth\\.julia\\packages\\MLDatasets\\PtJ0E\\src\\download.jl:32\n [20] datafile\n    @ C:\\Users\\Azathoth\\.julia\\packages\\MLDatasets\\PtJ0E\\src\\download.jl:32 [inlined]\n [21] load_data(dir::Nothing)\n    @ MLDatasets.Mutagenesis C:\\Users\\Azathoth\\.julia\\packages\\MLDatasets\\PtJ0E\\src\\Mutagenesis\\Mutagenesis.jl:81\n [22] traindata(dir::Nothing)\n    @ MLDatasets.Mutagenesis C:\\Users\\Azathoth\\.julia\\packages\\MLDatasets\\PtJ0E\\src\\Mutagenesis\\Mutagenesis.jl:66\n [23] #traindata#1\n    @ C:\\Users\\Azathoth\\.julia\\packages\\MLDatasets\\PtJ0E\\src\\Mutagenesis\\Mutagenesis.jl:61 [inlined]\n [24] traindata()\n    @ MLDatasets.Mutagenesis C:\\Users\\Azathoth\\.julia\\packages\\MLDatasets\\PtJ0E\\src\\Mutagenesis\\Mutagenesis.jl:61\n [25] #invokelatest#2\n    @ .\\essentials.jl:716 [inlined]\n [26] invokelatest(::Any)\n    @ Base .\\essentials.jl:714\n [27] _pyjlwrap_call(f::Function, args_::Ptr{PyCall.PyObject_struct}, kw_::Ptr{PyCall.PyObject_struct})\n    @ PyCall C:\\Users\\Azathoth\\.julia\\packages\\PyCall\\7a7w0\\src\\callback.jl:28\n [28] pyjlwrap_call(self_::Ptr{PyCall.PyObject_struct}, args_::Ptr{PyCall.PyObject_struct}, kw_::Ptr{PyCall.PyObject_struct})\n    @ PyCall C:\\Users\\Azathoth\\.julia\\packages\\PyCall\\7a7w0\\src\\callback.jl:44>"
     ]
    }
   ],
   "source": [
    "train_x, train_y = MLDatasets.Mutagenesis.traindata();\n",
    "test_x, test_y = MLDatasets.Mutagenesis.testdata();"
   ]
  },
  {
   "cell_type": "markdown",
   "metadata": {},
   "source": [
    "We define some basic parameters for the construction and training of the neural network. Minibatch size is self-explanatory, iterations is number of iterations of gradient descent Neurons is number of neurons in hidden layers for each version of part of the neural network."
   ]
  },
  {
   "cell_type": "code",
   "execution_count": null,
   "metadata": {},
   "outputs": [],
   "source": [
    "minibatchsize = 100\n",
    "iterations = 5_000\n",
    "neurons = 20"
   ]
  },
  {
   "cell_type": "markdown",
   "metadata": {},
   "source": [
    "We create the schema of the training data, which is the first important step in using the JsonGrinder. This computes both the structure (also known as JSON schema) and histogram of occurrences of individual values in the training data."
   ]
  },
  {
   "cell_type": "code",
   "execution_count": null,
   "metadata": {},
   "outputs": [],
   "source": [
    "sch = JsonGrinder.schema(train_x)\n",
    "sch"
   ]
  },
  {
   "cell_type": "markdown",
   "metadata": {},
   "source": [
    "Then we use it to create the extractor converting jsons to Mill structures. The suggestextractor is executed below with default setting, but it allows you heavy customization. We also prepare list of classes. This classification problem is two-class, but we want to infer it from labels."
   ]
  },
  {
   "cell_type": "code",
   "execution_count": null,
   "metadata": {},
   "outputs": [],
   "source": [
    "extractor = JsonGrinder.suggestextractor(sch)\n",
    "labelnames = Base.unique(train_y)"
   ]
  },
  {
   "cell_type": "markdown",
   "metadata": {},
   "source": [
    "# Create the model\n",
    "We create the model reflecting structure of the data"
   ]
  },
  {
   "cell_type": "code",
   "execution_count": null,
   "metadata": {},
   "outputs": [],
   "source": [
    "model = Mill.reflectinmodel(sch, extractor,\n",
    "    lambda input_dim: Flux.Dense(input_dim, neurons, Flux.relu),\n",
    "    lambda input_dim: Mill.SegmentedMeanMax(input_dim),\n",
    "    fsm = {\"\": lambda input_dim: Flux.Dense(input_dim, Base.length(labelnames))},\n",
    ")\n",
    "model"
   ]
  },
  {
   "cell_type": "markdown",
   "metadata": {},
   "source": [
    "We convert jsons to mill data samples and prepare list of classes. This classification problem is two-class, but we want to infer it from labels. The extractor is callable, so we can pass it vector of samples to obtain vector of structures with extracted features."
   ]
  },
  {
   "cell_type": "code",
   "execution_count": null,
   "metadata": {},
   "outputs": [],
   "source": [
    "train_data = list(map(extractor, train_x))\n",
    "test_data = list(map(extractor, test_x))\n",
    "test_data"
   ]
  },
  {
   "cell_type": "markdown",
   "metadata": {},
   "source": [
    "# Train the model\n",
    "Then, we define few handy functions and a loss function, which is categorical crossentropy in our case."
   ]
  },
  {
   "cell_type": "markdown",
   "metadata": {},
   "source": [
    "The loss function needs to be defined in julia, not in python, unfortunately, because of the https://github.com/JuliaPy/pyjulia/issues/491 bug. This is the only code which needs to be ran from julia, and this is the most obscure part of the notebook, which passes label names and model from python to julia so the gradient calculation works properly."
   ]
  },
  {
   "cell_type": "code",
   "execution_count": null,
   "metadata": {},
   "outputs": [],
   "source": [
    "def inference(x): return model(x).data\n",
    "def accuracy(x,y): return Statistics.mean(labelnames[Flux.onecold(inference(x))-1] == y)\n",
    "import julia.Main as jl\n",
    "def loss_factory(model, labelnames, loss_name):\n",
    "    jl.model__ = model\n",
    "    jl.labelnames__ = labelnames\n",
    "    return jl.eval(f\"(x, y) -> {loss_name}(model__(x).data, Flux.onehotbatch(y, labelnames__))\")\n"
   ]
  },
  {
   "cell_type": "markdown",
   "metadata": {},
   "source": [
    "And we can add a callback which will be printing train and test accuracy during the training and then we can start trining"
   ]
  },
  {
   "cell_type": "code",
   "execution_count": 12,
   "metadata": {},
   "outputs": [],
   "source": [
    "def cb():\n",
    "    train_acc = accuracy(train_data, train_y)\n",
    "    test_acc = accuracy(test_data, test_y)\n",
    "    print(f\"accuracy: {train_acc=}, {test_acc=}\")"
   ]
  },
  {
   "cell_type": "markdown",
   "metadata": {},
   "source": [
    "Lastly we turn our training data to minibatches, and we can start training"
   ]
  },
  {
   "cell_type": "code",
   "execution_count": 13,
   "metadata": {},
   "outputs": [
    {
     "ename": "NameError",
     "evalue": "name 'train_data' is not defined",
     "output_type": "error",
     "traceback": [
      "\u001B[1;31m---------------------------------------------------------------------------\u001B[0m",
      "\u001B[1;31mNameError\u001B[0m                                 Traceback (most recent call last)",
      "Input \u001B[1;32mIn [13]\u001B[0m, in \u001B[0;36m<cell line: 1>\u001B[1;34m()\u001B[0m\n\u001B[1;32m----> 1\u001B[0m minibatches \u001B[38;5;241m=\u001B[39m MLDataPattern\u001B[38;5;241m.\u001B[39mRandomBatches((\u001B[43mtrain_data\u001B[49m, train_y), size \u001B[38;5;241m=\u001B[39m minibatchsize, count \u001B[38;5;241m=\u001B[39m iterations)\n",
      "\u001B[1;31mNameError\u001B[0m: name 'train_data' is not defined"
     ]
    }
   ],
   "source": [
    "minibatches = MLDataPattern.RandomBatches((train_data, train_y), size = minibatchsize, count = iterations)"
   ]
  },
  {
   "cell_type": "markdown",
   "metadata": {},
   "source": [
    "Here we create the actual loss function and store it in python variable."
   ]
  },
  {
   "cell_type": "code",
   "execution_count": 14,
   "metadata": {},
   "outputs": [
    {
     "ename": "NameError",
     "evalue": "name 'loss_factory' is not defined",
     "output_type": "error",
     "traceback": [
      "\u001B[1;31m---------------------------------------------------------------------------\u001B[0m",
      "\u001B[1;31mNameError\u001B[0m                                 Traceback (most recent call last)",
      "Input \u001B[1;32mIn [14]\u001B[0m, in \u001B[0;36m<cell line: 1>\u001B[1;34m()\u001B[0m\n\u001B[1;32m----> 1\u001B[0m my_loss \u001B[38;5;241m=\u001B[39m \u001B[43mloss_factory\u001B[49m(model, labelnames, \u001B[38;5;124m\"\u001B[39m\u001B[38;5;124mFlux.logitcrossentropy\u001B[39m\u001B[38;5;124m\"\u001B[39m)\n\u001B[0;32m      2\u001B[0m my_loss\n",
      "\u001B[1;31mNameError\u001B[0m: name 'loss_factory' is not defined"
     ]
    }
   ],
   "source": [
    "my_loss = loss_factory(model, labelnames, \"Flux.logitcrossentropy\")\n",
    "my_loss"
   ]
  },
  {
   "cell_type": "markdown",
   "metadata": {},
   "source": [
    "And now we can finally start training."
   ]
  },
  {
   "cell_type": "code",
   "execution_count": 15,
   "metadata": {},
   "outputs": [
    {
     "ename": "NameError",
     "evalue": "name 'my_loss' is not defined",
     "output_type": "error",
     "traceback": [
      "\u001B[1;31m---------------------------------------------------------------------------\u001B[0m",
      "\u001B[1;31mNameError\u001B[0m                                 Traceback (most recent call last)",
      "Input \u001B[1;32mIn [15]\u001B[0m, in \u001B[0;36m<cell line: 1>\u001B[1;34m()\u001B[0m\n\u001B[1;32m----> 1\u001B[0m Flux\u001B[38;5;241m.\u001B[39mOptimise\u001B[38;5;241m.\u001B[39mtrain_b(\u001B[43mmy_loss\u001B[49m, Flux\u001B[38;5;241m.\u001B[39mparams(model), minibatches, Flux\u001B[38;5;241m.\u001B[39mADAM(), cb \u001B[38;5;241m=\u001B[39m Flux\u001B[38;5;241m.\u001B[39mthrottle(cb, \u001B[38;5;241m2\u001B[39m))\n",
      "\u001B[1;31mNameError\u001B[0m: name 'my_loss' is not defined"
     ]
    }
   ],
   "source": [
    "Flux.Optimise.train_b(my_loss, Flux.params(model), minibatches, Flux.ADAM(), cb = Flux.throttle(cb, 2))"
   ]
  },
  {
   "cell_type": "markdown",
   "metadata": {},
   "source": [
    "We can see the accuracy rising and obtaining over 99% on training set quite quickly, and on test set we get over 79%."
   ]
  },
  {
   "cell_type": "markdown",
   "metadata": {},
   "source": [
    "# Classify test set\n",
    "The Last part is inference on test data."
   ]
  },
  {
   "cell_type": "code",
   "execution_count": null,
   "metadata": {},
   "outputs": [],
   "source": [
    "probs = Flux.softmax(model(test_data).data)\n",
    "o = Flux.onecold(probs) - 1\n",
    "pred_classes = labelnames[o]\n",
    "Statistics.mean(pred_classes == test_y)"
   ]
  },
  {
   "cell_type": "markdown",
   "metadata": {},
   "source": [
    "`pred_classes` contains the predictions for our test set. we see the accuracy is around 75% on test set predicted classes for test set"
   ]
  },
  {
   "cell_type": "code",
   "execution_count": null,
   "metadata": {},
   "outputs": [],
   "source": [
    "pred_classes"
   ]
  },
  {
   "cell_type": "markdown",
   "metadata": {},
   "source": [
    "Ground truth classes for test set"
   ]
  },
  {
   "cell_type": "code",
   "execution_count": null,
   "metadata": {},
   "outputs": [],
   "source": [
    "test_y"
   ]
  },
  {
   "cell_type": "markdown",
   "metadata": {},
   "source": [
    "probabilities for test set"
   ]
  },
  {
   "cell_type": "code",
   "execution_count": null,
   "metadata": {},
   "outputs": [],
   "source": [
    "probs"
   ]
  },
  {
   "cell_type": "markdown",
   "metadata": {},
   "source": [
    "We can look at individual samples. For instance, some sample from test set is"
   ]
  },
  {
   "cell_type": "code",
   "execution_count": null,
   "metadata": {},
   "outputs": [],
   "source": [
    "Mill.printtree(test_data[2])"
   ]
  },
  {
   "cell_type": "markdown",
   "metadata": {},
   "source": [
    "and the corresponding classification is"
   ]
  },
  {
   "cell_type": "code",
   "execution_count": null,
   "metadata": {},
   "outputs": [],
   "source": [
    "pred_classes[2]"
   ]
  },
  {
   "cell_type": "markdown",
   "metadata": {},
   "source": [
    "If you want to see the probability distribution, it can be obtained by applying softmax to the output of the network."
   ]
  },
  {
   "cell_type": "code",
   "execution_count": null,
   "metadata": {},
   "outputs": [],
   "source": [
    "Flux.softmax(model(test_data[2]).data)"
   ]
  },
  {
   "cell_type": "markdown",
   "metadata": {},
   "source": [
    "so we can see that the probability that given sample is `mutagenetic` is almost 1."
   ]
  },
  {
   "cell_type": "code",
   "execution_count": null,
   "metadata": {},
   "outputs": [],
   "source": []
  }
 ],
 "metadata": {
  "kernelspec": {
   "display_name": "Python 3 (ipykernel)",
   "language": "python",
   "name": "python3"
  },
  "language_info": {
   "codemirror_mode": {
    "name": "ipython",
    "version": 3
   },
   "file_extension": ".py",
   "mimetype": "text/x-python",
   "name": "python",
   "nbconvert_exporter": "python",
   "pygments_lexer": "ipython3",
   "version": "3.9.12"
  }
 },
 "nbformat": 4,
 "nbformat_minor": 4
}