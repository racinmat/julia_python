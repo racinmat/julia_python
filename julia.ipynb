{
 "cells": [
  {
   "cell_type": "code",
   "execution_count": 1,
   "metadata": {
    "pycharm": {
     "name": "#%%\n"
    }
   },
   "outputs": [],
   "source": [
    "using BenchmarkTools"
   ]
  },
  {
   "cell_type": "code",
   "execution_count": 2,
   "metadata": {
    "pycharm": {
     "name": "#%%\n"
    }
   },
   "outputs": [
    {
     "data": {
      "text/plain": [
       "do_stuff2 (generic function with 1 method)"
      ]
     },
     "execution_count": 2,
     "metadata": {},
     "output_type": "execute_result"
    }
   ],
   "source": [
    "do_stuff1(x) = (x .* 2) .^ 2\n",
    "do_stuff2(x) = [i < 1_000 ? i*2 : i*3 for i in x]"
   ]
  },
  {
   "cell_type": "code",
   "execution_count": 3,
   "metadata": {
    "pycharm": {
     "name": "#%%\n"
    }
   },
   "outputs": [
    {
     "data": {
      "text/plain": [
       "100000-element Vector{Int64}:\n",
       "           4\n",
       "          16\n",
       "          36\n",
       "          64\n",
       "         100\n",
       "         144\n",
       "         196\n",
       "         256\n",
       "         324\n",
       "         400\n",
       "         484\n",
       "         576\n",
       "         676\n",
       "           ⋮\n",
       " 39991200484\n",
       " 39992000400\n",
       " 39992800324\n",
       " 39993600256\n",
       " 39994400196\n",
       " 39995200144\n",
       " 39996000100\n",
       " 39996800064\n",
       " 39997600036\n",
       " 39998400016\n",
       " 39999200004\n",
       " 40000000000"
      ]
     },
     "execution_count": 3,
     "metadata": {},
     "output_type": "execute_result"
    }
   ],
   "source": [
    "do_stuff1(1:100_000)"
   ]
  },
  {
   "cell_type": "code",
   "execution_count": 4,
   "metadata": {
    "pycharm": {
     "name": "#%%\n"
    }
   },
   "outputs": [
    {
     "data": {
      "text/plain": [
       "100000-element Vector{Int64}:\n",
       "      2\n",
       "      4\n",
       "      6\n",
       "      8\n",
       "     10\n",
       "     12\n",
       "     14\n",
       "     16\n",
       "     18\n",
       "     20\n",
       "     22\n",
       "     24\n",
       "     26\n",
       "      ⋮\n",
       " 299967\n",
       " 299970\n",
       " 299973\n",
       " 299976\n",
       " 299979\n",
       " 299982\n",
       " 299985\n",
       " 299988\n",
       " 299991\n",
       " 299994\n",
       " 299997\n",
       " 300000"
      ]
     },
     "execution_count": 4,
     "metadata": {},
     "output_type": "execute_result"
    }
   ],
   "source": [
    "do_stuff2(1:100_000)"
   ]
  },
  {
   "cell_type": "code",
   "execution_count": 10,
   "metadata": {
    "scrolled": true,
    "tags": [],
    "pycharm": {
     "name": "#%%\n"
    }
   },
   "outputs": [
    {
     "name": "stdout",
     "output_type": "stream",
     "text": [
      "  1.036 ms (203 allocations: 7.68 MiB)\n"
     ]
    }
   ],
   "source": [
    "@btime 1:100 .|> x->do_stuff1(1:(10_000+x));"
   ]
  },
  {
   "cell_type": "code",
   "execution_count": 11,
   "metadata": {
    "scrolled": true,
    "tags": [],
    "pycharm": {
     "name": "#%%\n"
    }
   },
   "outputs": [
    {
     "name": "stdout",
     "output_type": "stream",
     "text": [
      "  18.939 ms (203 allocations: 76.34 MiB)\n"
     ]
    }
   ],
   "source": [
    "@btime 1:100 .|> x->do_stuff1(1:(100_000+x));"
   ]
  },
  {
   "cell_type": "code",
   "execution_count": 12,
   "metadata": {
    "scrolled": true,
    "pycharm": {
     "name": "#%%\n"
    }
   },
   "outputs": [
    {
     "name": "stdout",
     "output_type": "stream",
     "text": [
      "  1.371 ms (201 allocations: 7.68 MiB)\n"
     ]
    }
   ],
   "source": [
    "@btime 1:100 .|> x->do_stuff2(1:(10_000+x));"
   ]
  },
  {
   "cell_type": "code",
   "execution_count": 13,
   "metadata": {
    "scrolled": true,
    "pycharm": {
     "name": "#%%\n"
    }
   },
   "outputs": [
    {
     "name": "stdout",
     "output_type": "stream",
     "text": [
      "  10.447 ms (201 allocations: 76.34 MiB)\n"
     ]
    }
   ],
   "source": [
    "@btime 1:100 .|> x->do_stuff2(1:(100_000+x));"
   ]
  },
  {
   "cell_type": "code",
   "execution_count": 9,
   "metadata": {
    "pycharm": {
     "name": "#%%\n"
    }
   },
   "outputs": [
    {
     "name": "stdout",
     "output_type": "stream",
     "text": [
      "\t\u001B[0m.text\n",
      "\u001B[90m; ┌ @ In[2]:1 within `do_stuff1`\u001B[39m\n",
      "\t\u001B[96m\u001B[1mpushq\u001B[22m\u001B[39m\t\u001B[0m%rbp\n",
      "\t\u001B[96m\u001B[1mmovq\u001B[22m\u001B[39m\t\u001B[0m%rsp\u001B[0m, \u001B[0m%rbp\n",
      "\t\u001B[96m\u001B[1mpushq\u001B[22m\u001B[39m\t\u001B[0m%r15\n",
      "\t\u001B[96m\u001B[1mpushq\u001B[22m\u001B[39m\t\u001B[0m%r14\n",
      "\t\u001B[96m\u001B[1mpushq\u001B[22m\u001B[39m\t\u001B[0m%r12\n",
      "\t\u001B[96m\u001B[1mpushq\u001B[22m\u001B[39m\t\u001B[0m%rsi\n",
      "\t\u001B[96m\u001B[1mpushq\u001B[22m\u001B[39m\t\u001B[0m%rdi\n",
      "\t\u001B[96m\u001B[1mpushq\u001B[22m\u001B[39m\t\u001B[0m%rbx\n",
      "\t\u001B[96m\u001B[1msubq\u001B[22m\u001B[39m\t\u001B[33m$176\u001B[39m\u001B[0m, \u001B[0m%rsp\n",
      "\t\u001B[96m\u001B[1mvmovdqa\u001B[22m\u001B[39m\t\u001B[0m%xmm10\u001B[0m, \u001B[33m-64\u001B[39m\u001B[33m(\u001B[39m\u001B[0m%rbp\u001B[33m)\u001B[39m\n",
      "\t\u001B[96m\u001B[1mvmovdqa\u001B[22m\u001B[39m\t\u001B[0m%xmm9\u001B[0m, \u001B[33m-80\u001B[39m\u001B[33m(\u001B[39m\u001B[0m%rbp\u001B[33m)\u001B[39m\n",
      "\t\u001B[96m\u001B[1mvmovdqa\u001B[22m\u001B[39m\t\u001B[0m%xmm8\u001B[0m, \u001B[33m-96\u001B[39m\u001B[33m(\u001B[39m\u001B[0m%rbp\u001B[33m)\u001B[39m\n",
      "\t\u001B[96m\u001B[1mvmovdqa\u001B[22m\u001B[39m\t\u001B[0m%xmm7\u001B[0m, \u001B[33m-112\u001B[39m\u001B[33m(\u001B[39m\u001B[0m%rbp\u001B[33m)\u001B[39m\n",
      "\t\u001B[96m\u001B[1mvmovdqa\u001B[22m\u001B[39m\t\u001B[0m%xmm6\u001B[0m, \u001B[33m-128\u001B[39m\u001B[33m(\u001B[39m\u001B[0m%rbp\u001B[33m)\u001B[39m\n",
      "\t\u001B[96m\u001B[1mvpxor\u001B[22m\u001B[39m\t\u001B[0m%xmm0\u001B[0m, \u001B[0m%xmm0\u001B[0m, \u001B[0m%xmm0\n",
      "\t\u001B[96m\u001B[1mmovl\u001B[22m\u001B[39m\t\u001B[93m$jl_get_pgcstack\u001B[39m\u001B[0m, \u001B[0m%eax\n",
      "\t\u001B[96m\u001B[1mmovq\u001B[22m\u001B[39m\t\u001B[0m%rcx\u001B[0m, \u001B[0m%rdi\n",
      "\t\u001B[96m\u001B[1mmovq\u001B[22m\u001B[39m\t\u001B[33m$0\u001B[39m\u001B[0m, \u001B[33m-144\u001B[39m\u001B[33m(\u001B[39m\u001B[0m%rbp\u001B[33m)\u001B[39m\n",
      "\t\u001B[96m\u001B[1mvmovdqa\u001B[22m\u001B[39m\t\u001B[0m%xmm0\u001B[0m, \u001B[33m-160\u001B[39m\u001B[33m(\u001B[39m\u001B[0m%rbp\u001B[33m)\u001B[39m\n",
      "\t\u001B[96m\u001B[1mcallq\u001B[22m\u001B[39m\t\u001B[0m*\u001B[0m%rax\n",
      "\t\u001B[96m\u001B[1mmovq\u001B[22m\u001B[39m\t\u001B[0m%rax\u001B[0m, \u001B[0m%r14\n",
      "\u001B[90m; │┌ @ broadcast.jl:1303 within `broadcasted` @ broadcast.jl:1126\u001B[39m\n",
      "\u001B[90m; ││┌ @ range.jl:770 within `first`\u001B[39m\n",
      "\u001B[90m; │││┌ @ Base.jl:42 within `getproperty`\u001B[39m\n",
      "\t\u001B[96m\u001B[1mmovq\u001B[22m\u001B[39m\t\u001B[33m$4\u001B[39m\u001B[0m, \u001B[33m-160\u001B[39m\u001B[33m(\u001B[39m\u001B[0m%rbp\u001B[33m)\u001B[39m\n",
      "\t\u001B[96m\u001B[1mleaq\u001B[22m\u001B[39m\t\u001B[33m-160\u001B[39m\u001B[33m(\u001B[39m\u001B[0m%rbp\u001B[33m)\u001B[39m\u001B[0m, \u001B[0m%rcx\n",
      "\t\u001B[96m\u001B[1mmovq\u001B[22m\u001B[39m\t\u001B[33m(\u001B[39m\u001B[0m%r14\u001B[33m)\u001B[39m\u001B[0m, \u001B[0m%rax\n",
      "\t\u001B[96m\u001B[1mmovq\u001B[22m\u001B[39m\t\u001B[0m%rax\u001B[0m, \u001B[33m-152\u001B[39m\u001B[33m(\u001B[39m\u001B[0m%rbp\u001B[33m)\u001B[39m\n",
      "\t\u001B[96m\u001B[1mmovq\u001B[22m\u001B[39m\t\u001B[0m%rcx\u001B[0m, \u001B[33m(\u001B[39m\u001B[0m%r14\u001B[33m)\u001B[39m\n",
      "\u001B[90m; ││└└\u001B[39m\n",
      "\u001B[90m; ││┌ @ int.jl:88 within `*`\u001B[39m\n",
      "\t\u001B[96m\u001B[1mmovq\u001B[22m\u001B[39m\t\u001B[33m(\u001B[39m\u001B[0m%rdi\u001B[33m)\u001B[39m\u001B[0m, \u001B[0m%r12\n",
      "\u001B[90m; ││└\u001B[39m\n",
      "\u001B[90m; ││┌ @ range.jl:699 within `length`\u001B[39m\n",
      "\u001B[90m; │││┌ @ int.jl:86 within `-`\u001B[39m\n",
      "\t\u001B[96m\u001B[1mmovq\u001B[22m\u001B[39m\t\u001B[33m8\u001B[39m\u001B[33m(\u001B[39m\u001B[0m%rdi\u001B[33m)\u001B[39m\u001B[0m, \u001B[0m%rsi\n",
      "\t\u001B[96m\u001B[1msubq\u001B[22m\u001B[39m\t\u001B[0m%r12\u001B[0m, \u001B[0m%rsi\n",
      "\u001B[90m; ││└└\u001B[39m\n",
      "\u001B[90m; ││┌ @ range.jl:451 within `StepRangeLen` @ range.jl:451 @ range.jl:441\u001B[39m\n",
      "\u001B[90m; │││┌ @ operators.jl:425 within `>=`\u001B[39m\n",
      "\u001B[90m; ││││┌ @ int.jl:477 within `<=`\u001B[39m\n",
      "\t\u001B[96m\u001B[1mmovq\u001B[22m\u001B[39m\t\u001B[0m%rsi\u001B[0m, \u001B[0m%r15\n",
      "\t\u001B[96m\u001B[1mincq\u001B[22m\u001B[39m\t\u001B[0m%r15\n",
      "\u001B[90m; │││└└\u001B[39m\n",
      "\t\u001B[96m\u001B[1mjs\u001B[22m\u001B[39m\t\u001B[91mL757\u001B[39m\n",
      "\u001B[90m; │└└\u001B[39m\n",
      "\u001B[90m; │ @ range.jl within `do_stuff1`\u001B[39m\n",
      "\t\u001B[96m\u001B[1mmovl\u001B[22m\u001B[39m\t\u001B[93m$jl_alloc_array_1d\u001B[39m\u001B[0m, \u001B[0m%eax\n",
      "\u001B[90m; │ @ In[2]:1 within `do_stuff1`\u001B[39m\n",
      "\u001B[90m; │┌ @ broadcast.jl:860 within `materialize`\u001B[39m\n",
      "\u001B[90m; ││┌ @ broadcast.jl:885 within `copy`\u001B[39m\n",
      "\u001B[90m; │││┌ @ broadcast.jl:211 within `similar` @ broadcast.jl:212 @ abstractarray.jl:828 @ abstractarray.jl:829\u001B[39m\n",
      "\u001B[90m; ││││┌ @ boot.jl:474 within `Array` @ boot.jl:466 @ boot.jl:457\u001B[39m\n",
      "\t\u001B[96m\u001B[1mmovl\u001B[22m\u001B[39m\t\u001B[33m$310783072\u001B[39m\u001B[0m, \u001B[0m%ecx                \u001B[90m# imm = 0x12862C60\u001B[39m\n",
      "\t\u001B[96m\u001B[1mmovq\u001B[22m\u001B[39m\t\u001B[0m%r15\u001B[0m, \u001B[0m%rdx\n",
      "\u001B[90m; ││└└└\u001B[39m\n",
      "\u001B[90m; ││┌ @ broadcast.jl:281 within `instantiate`\u001B[39m\n",
      "\u001B[90m; │││┌ @ broadcast.jl:498 within `combine_axes`\u001B[39m\n",
      "\u001B[90m; ││││┌ @ broadcast.jl:504 within `broadcast_shape`\u001B[39m\n",
      "\u001B[90m; │││││┌ @ broadcast.jl:507 within `_bcs`\u001B[39m\n",
      "\t\u001B[96m\u001B[1mmovq\u001B[22m\u001B[39m\t\u001B[0m%r15\u001B[0m, \u001B[33m-176\u001B[39m\u001B[33m(\u001B[39m\u001B[0m%rbp\u001B[33m)\u001B[39m\n",
      "\u001B[90m; ││└└└└\u001B[39m\n",
      "\u001B[90m; ││┌ @ broadcast.jl:885 within `copy`\u001B[39m\n",
      "\u001B[90m; │││┌ @ broadcast.jl:211 within `similar` @ broadcast.jl:212 @ abstractarray.jl:828 @ abstractarray.jl:829\u001B[39m\n",
      "\u001B[90m; ││││┌ @ boot.jl:474 within `Array` @ boot.jl:466 @ boot.jl:457\u001B[39m\n",
      "\t\u001B[96m\u001B[1mcallq\u001B[22m\u001B[39m\t\u001B[0m*\u001B[0m%rax\n",
      "\u001B[90m; │││└└\u001B[39m\n",
      "\u001B[90m; │││┌ @ broadcast.jl:913 within `copyto!` @ broadcast.jl:949\u001B[39m\n",
      "\u001B[90m; ││││┌ @ abstractarray.jl:95 within `axes`\u001B[39m\n",
      "\u001B[90m; │││││┌ @ array.jl:151 within `size`\u001B[39m\n",
      "\t\u001B[96m\u001B[1mmovq\u001B[22m\u001B[39m\t\u001B[33m24\u001B[39m\u001B[33m(\u001B[39m\u001B[0m%rax\u001B[33m)\u001B[39m\u001B[0m, \u001B[0m%rcx\n",
      "\u001B[90m; ││││└└\u001B[39m\n",
      "\u001B[90m; ││││┌ @ tuple.jl:381 within `==`\u001B[39m\n",
      "\u001B[90m; │││││┌ @ tuple.jl:385 within `_eq`\u001B[39m\n",
      "\u001B[90m; ││││││┌ @ range.jl:1043 within `==`\u001B[39m\n",
      "\t\u001B[96m\u001B[1mtestq\u001B[22m\u001B[39m\t\u001B[0m%rcx\u001B[0m, \u001B[0m%rcx\n",
      "\t\u001B[96m\u001B[1mje\u001B[22m\u001B[39m\t\u001B[91mL206\u001B[39m\n",
      "\t\u001B[96m\u001B[1mcmpq\u001B[22m\u001B[39m\t\u001B[33m$1\u001B[39m\u001B[0m, \u001B[0m%rcx\n",
      "\t\u001B[96m\u001B[1mjne\u001B[22m\u001B[39m\t\u001B[91mL246\u001B[39m\n",
      "\u001B[90m; ││││││└\u001B[39m\n",
      "\u001B[90m; ││││││┌ @ range.jl:1044 within `==`\u001B[39m\n",
      "\u001B[90m; │││││││┌ @ range.jl:1057 within `_has_length_one`\u001B[39m\n",
      "\u001B[90m; ││││││││┌ @ promotion.jl:468 within `==`\u001B[39m\n",
      "\t\u001B[96m\u001B[1mtestq\u001B[22m\u001B[39m\t\u001B[0m%rsi\u001B[0m, \u001B[0m%rsi\n",
      "\u001B[90m; ││││└└└└└\u001B[39m\n",
      "\t\u001B[96m\u001B[1mjne\u001B[22m\u001B[39m\t\u001B[91mL211\u001B[39m\n",
      "\u001B[90m; ││└└\u001B[39m\n",
      "\u001B[90m; ││┌ @ broadcast.jl:281 within `instantiate`\u001B[39m\n",
      "\u001B[90m; │││┌ @ broadcast.jl:498 within `combine_axes` @ broadcast.jl:499\u001B[39m\n",
      "\u001B[90m; ││││┌ @ range.jl:643 within `axes`\u001B[39m\n",
      "\u001B[90m; │││││┌ @ range.jl:413 within `oneto`\u001B[39m\n",
      "\u001B[90m; ││││││┌ @ range.jl:411 within `OneTo` @ range.jl:398\u001B[39m\n",
      "\u001B[90m; │││││││┌ @ promotion.jl:479 within `max`\u001B[39m\n",
      "\u001B[91mL176:\u001B[39m\n",
      "\t\u001B[96m\u001B[1mtestq\u001B[22m\u001B[39m\t\u001B[0m%r15\u001B[0m, \u001B[0m%r15\n",
      "\u001B[90m; ││└└└└└└\u001B[39m\n",
      "\u001B[90m; ││┌ @ broadcast.jl:885 within `copy`\u001B[39m\n",
      "\u001B[90m; │││┌ @ broadcast.jl:913 within `copyto!` @ broadcast.jl:960\u001B[39m\n",
      "\u001B[90m; ││││┌ @ simdloop.jl:72 within `macro expansion`\u001B[39m\n",
      "\t\u001B[96m\u001B[1mje\u001B[22m\u001B[39m\t\u001B[91mL701\u001B[39m\n",
      "\u001B[90m; ││││└\u001B[39m\n",
      "\u001B[90m; ││││ @ broadcast.jl:913 within `copyto!` @ simdloop.jl:0\u001B[39m\n",
      "\t\u001B[96m\u001B[1mmovq\u001B[22m\u001B[39m\t\u001B[33m(\u001B[39m\u001B[0m%rax\u001B[33m)\u001B[39m\u001B[0m, \u001B[0m%rcx\n",
      "\u001B[90m; ││││ @ broadcast.jl:913 within `copyto!` @ broadcast.jl:957\u001B[39m\n",
      "\u001B[90m; ││││┌ @ broadcast.jl:940 within `preprocess`\u001B[39m\n",
      "\u001B[90m; │││││┌ @ broadcast.jl:943 within `preprocess_args` @ broadcast.jl:943\u001B[39m\n",
      "\u001B[90m; ││││││┌ @ broadcast.jl:941 within `preprocess`\u001B[39m\n",
      "\u001B[90m; │││││││┌ @ broadcast.jl:637 within `extrude`\u001B[39m\n",
      "\u001B[90m; ││││││││┌ @ broadcast.jl:586 within `newindexer`\u001B[39m\n",
      "\u001B[90m; │││││││││┌ @ broadcast.jl:587 within `shapeindexer`\u001B[39m\n",
      "\u001B[90m; ││││││││││┌ @ broadcast.jl:592 within `_newindexer`\u001B[39m\n",
      "\u001B[90m; │││││││││││┌ @ operators.jl:278 within `!=`\u001B[39m\n",
      "\u001B[90m; ││││││││││││┌ @ promotion.jl:468 within `==`\u001B[39m\n",
      "\t\u001B[96m\u001B[1mtestq\u001B[22m\u001B[39m\t\u001B[0m%rsi\u001B[0m, \u001B[0m%rsi\n",
      "\u001B[90m; ││││└└└└└└└└└\u001B[39m\n",
      "\u001B[90m; ││││ @ broadcast.jl:913 within `copyto!` @ broadcast.jl:960\u001B[39m\n",
      "\u001B[90m; ││││┌ @ simdloop.jl:75 within `macro expansion`\u001B[39m\n",
      "\t\u001B[96m\u001B[1mje\u001B[22m\u001B[39m\t\u001B[91mL253\u001B[39m\n",
      "\t\u001B[96m\u001B[1mcmpq\u001B[22m\u001B[39m\t\u001B[33m$16\u001B[39m\u001B[0m, \u001B[0m%r15\n",
      "\t\u001B[96m\u001B[1mjae\u001B[22m\u001B[39m\t\u001B[91mL277\u001B[39m\n",
      "\u001B[90m; ││││└\u001B[39m\n",
      "\u001B[90m; ││││ @ broadcast.jl:913 within `copyto!` @ simdloop.jl:0\u001B[39m\n",
      "\t\u001B[96m\u001B[1mxorl\u001B[22m\u001B[39m\t\u001B[0m%edx\u001B[0m, \u001B[0m%edx\n",
      "\t\u001B[96m\u001B[1mjmp\u001B[22m\u001B[39m\t\u001B[91mL583\u001B[39m\n",
      "\u001B[90m; ││││ @ broadcast.jl:913 within `copyto!` @ broadcast.jl:949\u001B[39m\n",
      "\u001B[90m; ││││┌ @ tuple.jl:381 within `==`\u001B[39m\n",
      "\u001B[90m; │││││┌ @ tuple.jl:385 within `_eq`\u001B[39m\n",
      "\u001B[90m; ││││││┌ @ range.jl:1043 within `==`\u001B[39m\n",
      "\u001B[90m; │││││││┌ @ range.jl:609 within `isempty`\u001B[39m\n",
      "\u001B[90m; ││││││││┌ @ operators.jl:378 within `>`\u001B[39m\n",
      "\u001B[90m; │││││││││┌ @ int.jl:83 within `<`\u001B[39m\n",
      "\u001B[91mL206:\u001B[39m\n",
      "\t\u001B[96m\u001B[1mtestq\u001B[22m\u001B[39m\t\u001B[0m%r15\u001B[0m, \u001B[0m%r15\n",
      "\u001B[90m; ││││└└└└└└\u001B[39m\n",
      "\t\u001B[96m\u001B[1mjle\u001B[22m\u001B[39m\t\u001B[91mL176\u001B[39m\n",
      "\u001B[90m; ││││┌ @ abstractarray.jl:95 within `axes`\u001B[39m\n",
      "\u001B[90m; │││││┌ @ tuple.jl:221 within `map`\u001B[39m\n",
      "\u001B[91mL211:\u001B[39m\n",
      "\t\u001B[96m\u001B[1mmovq\u001B[22m\u001B[39m\t\u001B[0m%rcx\u001B[0m, \u001B[33m-168\u001B[39m\u001B[33m(\u001B[39m\u001B[0m%rbp\u001B[33m)\u001B[39m\n",
      "\u001B[90m; ││││└└\u001B[39m\n",
      "\t\u001B[96m\u001B[1mmovabsq\u001B[22m\u001B[39m\t\u001B[93m$throwdm\u001B[39m\u001B[0m, \u001B[0m%rax\n",
      "\t\u001B[96m\u001B[1mleaq\u001B[22m\u001B[39m\t\u001B[33m-168\u001B[39m\u001B[33m(\u001B[39m\u001B[0m%rbp\u001B[33m)\u001B[39m\u001B[0m, \u001B[0m%rcx\n",
      "\t\u001B[96m\u001B[1mleaq\u001B[22m\u001B[39m\t\u001B[33m-176\u001B[39m\u001B[33m(\u001B[39m\u001B[0m%rbp\u001B[33m)\u001B[39m\u001B[0m, \u001B[0m%rdx\n",
      "\t\u001B[96m\u001B[1mcallq\u001B[22m\u001B[39m\t\u001B[0m*\u001B[0m%rax\n",
      "\t\u001B[96m\u001B[1mud2\u001B[22m\u001B[39m\n",
      "\u001B[90m; ││││┌ @ tuple.jl:381 within `==`\u001B[39m\n",
      "\u001B[90m; │││││┌ @ tuple.jl:385 within `_eq`\u001B[39m\n",
      "\u001B[90m; ││││││┌ @ range.jl:1045 within `==` @ promotion.jl:468\u001B[39m\n",
      "\u001B[91mL246:\u001B[39m\n",
      "\t\u001B[96m\u001B[1mcmpq\u001B[22m\u001B[39m\t\u001B[0m%r15\u001B[0m, \u001B[0m%rcx\n",
      "\t\u001B[96m\u001B[1mje\u001B[22m\u001B[39m\t\u001B[91mL176\u001B[39m\n",
      "\t\u001B[96m\u001B[1mjmp\u001B[22m\u001B[39m\t\u001B[91mL211\u001B[39m\n",
      "\u001B[90m; ││││└└└\u001B[39m\n",
      "\u001B[90m; ││││ @ broadcast.jl:913 within `copyto!` @ promotion.jl:0\u001B[39m\n",
      "\u001B[91mL253:\u001B[39m\n",
      "\t\u001B[96m\u001B[1maddq\u001B[22m\u001B[39m\t\u001B[0m%r12\u001B[0m, \u001B[0m%r12\n",
      "\t\u001B[96m\u001B[1mimulq\u001B[22m\u001B[39m\t\u001B[0m%r12\u001B[0m, \u001B[0m%r12\n",
      "\u001B[90m; ││││ @ broadcast.jl:913 within `copyto!` @ broadcast.jl:960\u001B[39m\n",
      "\u001B[90m; ││││┌ @ simdloop.jl:75 within `macro expansion`\u001B[39m\n",
      "\t\u001B[96m\u001B[1mcmpq\u001B[22m\u001B[39m\t\u001B[33m$16\u001B[39m\u001B[0m, \u001B[0m%r15\n",
      "\t\u001B[96m\u001B[1mjae\u001B[22m\u001B[39m\t\u001B[91mL617\u001B[39m\n",
      "\u001B[90m; ││││└\u001B[39m\n",
      "\u001B[90m; ││││┌ @ simdloop.jl within `macro expansion`\u001B[39m\n",
      "\t\u001B[96m\u001B[1mxorl\u001B[22m\u001B[39m\t\u001B[0m%edx\u001B[0m, \u001B[0m%edx\n",
      "\t\u001B[96m\u001B[1mjmp\u001B[22m\u001B[39m\t\u001B[91mL688\u001B[39m\n",
      "\u001B[91mL277:\u001B[39m\n",
      "\t\u001B[96m\u001B[1mmovl\u001B[22m\u001B[39m\t\u001B[33m$4\u001B[39m\u001B[0m, \u001B[0m%edi\n",
      "\u001B[90m; ││││└\u001B[39m\n",
      "\u001B[90m; ││││┌ @ simdloop.jl:75 within `macro expansion`\u001B[39m\n",
      "\t\u001B[96m\u001B[1mvmovq\u001B[22m\u001B[39m\t\u001B[0m%r12\u001B[0m, \u001B[0m%xmm4\n",
      "\t\u001B[96m\u001B[1mmovabsq\u001B[22m\u001B[39m\t\u001B[93m$.rodata.cst32\u001B[39m\u001B[0m, \u001B[0m%rsi\n",
      "\t\u001B[96m\u001B[1mmovq\u001B[22m\u001B[39m\t\u001B[0m%r15\u001B[0m, \u001B[0m%rdx\n",
      "\t\u001B[96m\u001B[1mvmovq\u001B[22m\u001B[39m\t\u001B[0m%rdi\u001B[0m, \u001B[0m%xmm2\n",
      "\t\u001B[96m\u001B[1mmovl\u001B[22m\u001B[39m\t\u001B[33m$8\u001B[39m\u001B[0m, \u001B[0m%edi\n",
      "\t\u001B[96m\u001B[1mvmovdqa\u001B[22m\u001B[39m\t\u001B[33m(\u001B[39m\u001B[0m%rsi\u001B[33m)\u001B[39m\u001B[0m, \u001B[0m%ymm0\n",
      "\t\u001B[96m\u001B[1mandq\u001B[22m\u001B[39m\t\u001B[33m$-16\u001B[39m\u001B[0m, \u001B[0m%rdx\n",
      "\t\u001B[96m\u001B[1mxorl\u001B[22m\u001B[39m\t\u001B[0m%esi\u001B[0m, \u001B[0m%esi\n",
      "\t\u001B[96m\u001B[1mvmovq\u001B[22m\u001B[39m\t\u001B[0m%rdi\u001B[0m, \u001B[0m%xmm3\n",
      "\t\u001B[96m\u001B[1mmovl\u001B[22m\u001B[39m\t\u001B[33m$12\u001B[39m\u001B[0m, \u001B[0m%edi\n",
      "\t\u001B[96m\u001B[1mvmovq\u001B[22m\u001B[39m\t\u001B[0m%rdi\u001B[0m, \u001B[0m%xmm5\n",
      "\t\u001B[96m\u001B[1mmovabsq\u001B[22m\u001B[39m\t\u001B[93m$.rodata.cst8\u001B[39m\u001B[0m, \u001B[0m%rdi\n",
      "\t\u001B[96m\u001B[1mvpbroadcastq\u001B[22m\u001B[39m\t\u001B[0m%xmm4\u001B[0m, \u001B[0m%ymm1\n",
      "\t\u001B[96m\u001B[1mvpaddq\u001B[22m\u001B[39m\t\u001B[0m%xmm2\u001B[0m, \u001B[0m%xmm4\u001B[0m, \u001B[0m%xmm2\n",
      "\t\u001B[96m\u001B[1mvpaddq\u001B[22m\u001B[39m\t\u001B[0m%xmm3\u001B[0m, \u001B[0m%xmm4\u001B[0m, \u001B[0m%xmm3\n",
      "\t\u001B[96m\u001B[1mvpbroadcastq\u001B[22m\u001B[39m\t\u001B[0m%xmm2\u001B[0m, \u001B[0m%ymm2\n",
      "\t\u001B[96m\u001B[1mvpaddq\u001B[22m\u001B[39m\t\u001B[0m%xmm5\u001B[0m, \u001B[0m%xmm4\u001B[0m, \u001B[0m%xmm4\n",
      "\t\u001B[96m\u001B[1mvpbroadcastq\u001B[22m\u001B[39m\t\u001B[33m(\u001B[39m\u001B[0m%rdi\u001B[33m)\u001B[39m\u001B[0m, \u001B[0m%ymm5\n",
      "\t\u001B[96m\u001B[1mvpbroadcastq\u001B[22m\u001B[39m\t\u001B[0m%xmm3\u001B[0m, \u001B[0m%ymm3\n",
      "\t\u001B[96m\u001B[1mvpbroadcastq\u001B[22m\u001B[39m\t\u001B[0m%xmm4\u001B[0m, \u001B[0m%ymm4\n",
      "\t\u001B[96m\u001B[1mnop\u001B[22m\u001B[39m\n",
      "\u001B[90m; ││││└\u001B[39m\n",
      "\u001B[90m; ││││┌ @ simdloop.jl:77 within `macro expansion` @ broadcast.jl:961\u001B[39m\n",
      "\u001B[90m; │││││┌ @ broadcast.jl:597 within `getindex`\u001B[39m\n",
      "\u001B[90m; ││││││┌ @ broadcast.jl:642 within `_broadcast_getindex`\u001B[39m\n",
      "\u001B[90m; │││││││┌ @ broadcast.jl:666 within `_getindex` @ broadcast.jl:666\u001B[39m\n",
      "\u001B[90m; ││││││││┌ @ broadcast.jl:636 within `_broadcast_getindex`\u001B[39m\n",
      "\u001B[90m; │││││││││┌ @ range.jl:887 within `getindex`\u001B[39m\n",
      "\u001B[90m; ││││││││││┌ @ range.jl:894 within `unsafe_getindex`\u001B[39m\n",
      "\u001B[90m; │││││││││││┌ @ int.jl:87 within `+`\u001B[39m\n",
      "\u001B[91mL384:\u001B[39m\n",
      "\t\u001B[96m\u001B[1mvpaddq\u001B[22m\u001B[39m\t\u001B[0m%ymm1\u001B[0m, \u001B[0m%ymm0\u001B[0m, \u001B[0m%ymm6\n",
      "\t\u001B[96m\u001B[1mvpaddq\u001B[22m\u001B[39m\t\u001B[0m%ymm0\u001B[0m, \u001B[0m%ymm2\u001B[0m, \u001B[0m%ymm7\n",
      "\t\u001B[96m\u001B[1mvpaddq\u001B[22m\u001B[39m\t\u001B[0m%ymm0\u001B[0m, \u001B[0m%ymm3\u001B[0m, \u001B[0m%ymm8\n",
      "\t\u001B[96m\u001B[1mvpaddq\u001B[22m\u001B[39m\t\u001B[0m%ymm0\u001B[0m, \u001B[0m%ymm4\u001B[0m, \u001B[0m%ymm9\n",
      "\t\u001B[96m\u001B[1mvpaddq\u001B[22m\u001B[39m\t\u001B[0m%ymm5\u001B[0m, \u001B[0m%ymm0\u001B[0m, \u001B[0m%ymm0\n",
      "\t\u001B[96m\u001B[1mvpaddq\u001B[22m\u001B[39m\t\u001B[0m%ymm6\u001B[0m, \u001B[0m%ymm6\u001B[0m, \u001B[0m%ymm6\n",
      "\t\u001B[96m\u001B[1mvpaddq\u001B[22m\u001B[39m\t\u001B[0m%ymm7\u001B[0m, \u001B[0m%ymm7\u001B[0m, \u001B[0m%ymm7\n",
      "\t\u001B[96m\u001B[1mvpaddq\u001B[22m\u001B[39m\t\u001B[0m%ymm8\u001B[0m, \u001B[0m%ymm8\u001B[0m, \u001B[0m%ymm8\n",
      "\t\u001B[96m\u001B[1mvpaddq\u001B[22m\u001B[39m\t\u001B[0m%ymm9\u001B[0m, \u001B[0m%ymm9\u001B[0m, \u001B[0m%ymm9\n",
      "\u001B[90m; ││││││└└└└└└\u001B[39m\n",
      "\u001B[90m; ││││││┌ @ broadcast.jl:643 within `_broadcast_getindex`\u001B[39m\n",
      "\u001B[90m; │││││││┌ @ broadcast.jl:670 within `_broadcast_getindex_evalf`\u001B[39m\n",
      "\u001B[90m; ││││││││┌ @ intfuncs.jl:312 within `literal_pow`\u001B[39m\n",
      "\u001B[90m; │││││││││┌ @ int.jl:88 within `*`\u001B[39m\n",
      "\t\u001B[96m\u001B[1mvpsrlq\u001B[22m\u001B[39m\t\u001B[33m$32\u001B[39m\u001B[0m, \u001B[0m%ymm6\u001B[0m, \u001B[0m%ymm10\n",
      "\t\u001B[96m\u001B[1mvpmuludq\u001B[22m\u001B[39m\t\u001B[0m%ymm6\u001B[0m, \u001B[0m%ymm10\u001B[0m, \u001B[0m%ymm10\n",
      "\t\u001B[96m\u001B[1mvpmuludq\u001B[22m\u001B[39m\t\u001B[0m%ymm6\u001B[0m, \u001B[0m%ymm6\u001B[0m, \u001B[0m%ymm6\n",
      "\t\u001B[96m\u001B[1mvpaddq\u001B[22m\u001B[39m\t\u001B[0m%ymm10\u001B[0m, \u001B[0m%ymm10\u001B[0m, \u001B[0m%ymm10\n",
      "\t\u001B[96m\u001B[1mvpsllq\u001B[22m\u001B[39m\t\u001B[33m$32\u001B[39m\u001B[0m, \u001B[0m%ymm10\u001B[0m, \u001B[0m%ymm10\n",
      "\t\u001B[96m\u001B[1mvpaddq\u001B[22m\u001B[39m\t\u001B[0m%ymm6\u001B[0m, \u001B[0m%ymm10\u001B[0m, \u001B[0m%ymm6\n",
      "\t\u001B[96m\u001B[1mvpsrlq\u001B[22m\u001B[39m\t\u001B[33m$32\u001B[39m\u001B[0m, \u001B[0m%ymm7\u001B[0m, \u001B[0m%ymm10\n",
      "\t\u001B[96m\u001B[1mvpmuludq\u001B[22m\u001B[39m\t\u001B[0m%ymm7\u001B[0m, \u001B[0m%ymm10\u001B[0m, \u001B[0m%ymm10\n",
      "\t\u001B[96m\u001B[1mvpmuludq\u001B[22m\u001B[39m\t\u001B[0m%ymm7\u001B[0m, \u001B[0m%ymm7\u001B[0m, \u001B[0m%ymm7\n",
      "\u001B[90m; │││││└└└└└\u001B[39m\n",
      "\u001B[90m; │││││┌ @ array.jl:903 within `setindex!`\u001B[39m\n",
      "\t\u001B[96m\u001B[1mvmovdqu\u001B[22m\u001B[39m\t\u001B[0m%ymm6\u001B[0m, \u001B[33m(\u001B[39m\u001B[0m%rcx\u001B[0m,\u001B[0m%rsi\u001B[0m,\u001B[33m8\u001B[39m\u001B[33m)\u001B[39m\n",
      "\u001B[90m; │││││└\u001B[39m\n",
      "\u001B[90m; │││││┌ @ broadcast.jl:597 within `getindex`\u001B[39m\n",
      "\u001B[90m; ││││││┌ @ broadcast.jl:643 within `_broadcast_getindex`\u001B[39m\n",
      "\u001B[90m; │││││││┌ @ broadcast.jl:670 within `_broadcast_getindex_evalf`\u001B[39m\n",
      "\u001B[90m; ││││││││┌ @ intfuncs.jl:312 within `literal_pow`\u001B[39m\n",
      "\u001B[90m; │││││││││┌ @ int.jl:88 within `*`\u001B[39m\n",
      "\t\u001B[96m\u001B[1mvpaddq\u001B[22m\u001B[39m\t\u001B[0m%ymm10\u001B[0m, \u001B[0m%ymm10\u001B[0m, \u001B[0m%ymm10\n",
      "\t\u001B[96m\u001B[1mvpsllq\u001B[22m\u001B[39m\t\u001B[33m$32\u001B[39m\u001B[0m, \u001B[0m%ymm10\u001B[0m, \u001B[0m%ymm10\n",
      "\t\u001B[96m\u001B[1mvpaddq\u001B[22m\u001B[39m\t\u001B[0m%ymm7\u001B[0m, \u001B[0m%ymm10\u001B[0m, \u001B[0m%ymm7\n",
      "\t\u001B[96m\u001B[1mvpsrlq\u001B[22m\u001B[39m\t\u001B[33m$32\u001B[39m\u001B[0m, \u001B[0m%ymm8\u001B[0m, \u001B[0m%ymm10\n",
      "\t\u001B[96m\u001B[1mvpmuludq\u001B[22m\u001B[39m\t\u001B[0m%ymm10\u001B[0m, \u001B[0m%ymm8\u001B[0m, \u001B[0m%ymm10\n",
      "\t\u001B[96m\u001B[1mvpmuludq\u001B[22m\u001B[39m\t\u001B[0m%ymm8\u001B[0m, \u001B[0m%ymm8\u001B[0m, \u001B[0m%ymm8\n",
      "\u001B[90m; │││││└└└└└\u001B[39m\n",
      "\u001B[90m; │││││┌ @ array.jl:903 within `setindex!`\u001B[39m\n",
      "\t\u001B[96m\u001B[1mvmovdqu\u001B[22m\u001B[39m\t\u001B[0m%ymm7\u001B[0m, \u001B[33m32\u001B[39m\u001B[33m(\u001B[39m\u001B[0m%rcx\u001B[0m,\u001B[0m%rsi\u001B[0m,\u001B[33m8\u001B[39m\u001B[33m)\u001B[39m\n",
      "\u001B[90m; │││││└\u001B[39m\n",
      "\u001B[90m; │││││┌ @ broadcast.jl:597 within `getindex`\u001B[39m\n",
      "\u001B[90m; ││││││┌ @ broadcast.jl:643 within `_broadcast_getindex`\u001B[39m\n",
      "\u001B[90m; │││││││┌ @ broadcast.jl:670 within `_broadcast_getindex_evalf`\u001B[39m\n",
      "\u001B[90m; ││││││││┌ @ intfuncs.jl:312 within `literal_pow`\u001B[39m\n",
      "\u001B[90m; │││││││││┌ @ int.jl:88 within `*`\u001B[39m\n",
      "\t\u001B[96m\u001B[1mvpaddq\u001B[22m\u001B[39m\t\u001B[0m%ymm10\u001B[0m, \u001B[0m%ymm10\u001B[0m, \u001B[0m%ymm10\n",
      "\t\u001B[96m\u001B[1mvpsllq\u001B[22m\u001B[39m\t\u001B[33m$32\u001B[39m\u001B[0m, \u001B[0m%ymm10\u001B[0m, \u001B[0m%ymm10\n",
      "\t\u001B[96m\u001B[1mvpaddq\u001B[22m\u001B[39m\t\u001B[0m%ymm10\u001B[0m, \u001B[0m%ymm8\u001B[0m, \u001B[0m%ymm8\n",
      "\t\u001B[96m\u001B[1mvpsrlq\u001B[22m\u001B[39m\t\u001B[33m$32\u001B[39m\u001B[0m, \u001B[0m%ymm9\u001B[0m, \u001B[0m%ymm10\n",
      "\t\u001B[96m\u001B[1mvpmuludq\u001B[22m\u001B[39m\t\u001B[0m%ymm10\u001B[0m, \u001B[0m%ymm9\u001B[0m, \u001B[0m%ymm10\n",
      "\t\u001B[96m\u001B[1mvpmuludq\u001B[22m\u001B[39m\t\u001B[0m%ymm9\u001B[0m, \u001B[0m%ymm9\u001B[0m, \u001B[0m%ymm9\n",
      "\u001B[90m; │││││└└└└└\u001B[39m\n",
      "\u001B[90m; │││││┌ @ array.jl:903 within `setindex!`\u001B[39m\n",
      "\t\u001B[96m\u001B[1mvmovdqu\u001B[22m\u001B[39m\t\u001B[0m%ymm8\u001B[0m, \u001B[33m64\u001B[39m\u001B[33m(\u001B[39m\u001B[0m%rcx\u001B[0m,\u001B[0m%rsi\u001B[0m,\u001B[33m8\u001B[39m\u001B[33m)\u001B[39m\n",
      "\u001B[90m; │││││└\u001B[39m\n",
      "\u001B[90m; │││││┌ @ broadcast.jl:597 within `getindex`\u001B[39m\n",
      "\u001B[90m; ││││││┌ @ broadcast.jl:643 within `_broadcast_getindex`\u001B[39m\n",
      "\u001B[90m; │││││││┌ @ broadcast.jl:670 within `_broadcast_getindex_evalf`\u001B[39m\n",
      "\u001B[90m; ││││││││┌ @ intfuncs.jl:312 within `literal_pow`\u001B[39m\n",
      "\u001B[90m; │││││││││┌ @ int.jl:88 within `*`\u001B[39m\n",
      "\t\u001B[96m\u001B[1mvpaddq\u001B[22m\u001B[39m\t\u001B[0m%ymm10\u001B[0m, \u001B[0m%ymm10\u001B[0m, \u001B[0m%ymm10\n",
      "\t\u001B[96m\u001B[1mvpsllq\u001B[22m\u001B[39m\t\u001B[33m$32\u001B[39m\u001B[0m, \u001B[0m%ymm10\u001B[0m, \u001B[0m%ymm10\n",
      "\t\u001B[96m\u001B[1mvpaddq\u001B[22m\u001B[39m\t\u001B[0m%ymm10\u001B[0m, \u001B[0m%ymm9\u001B[0m, \u001B[0m%ymm9\n",
      "\u001B[90m; │││││└└└└└\u001B[39m\n",
      "\u001B[90m; │││││┌ @ array.jl:903 within `setindex!`\u001B[39m\n",
      "\t\u001B[96m\u001B[1mvmovdqu\u001B[22m\u001B[39m\t\u001B[0m%ymm9\u001B[0m, \u001B[33m96\u001B[39m\u001B[33m(\u001B[39m\u001B[0m%rcx\u001B[0m,\u001B[0m%rsi\u001B[0m,\u001B[33m8\u001B[39m\u001B[33m)\u001B[39m\n",
      "\u001B[90m; ││││└└\u001B[39m\n",
      "\u001B[90m; ││││┌ @ simdloop.jl:78 within `macro expansion`\u001B[39m\n",
      "\u001B[90m; │││││┌ @ int.jl:87 within `+`\u001B[39m\n",
      "\t\u001B[96m\u001B[1maddq\u001B[22m\u001B[39m\t\u001B[33m$16\u001B[39m\u001B[0m, \u001B[0m%rsi\n",
      "\t\u001B[96m\u001B[1mcmpq\u001B[22m\u001B[39m\t\u001B[0m%rsi\u001B[0m, \u001B[0m%rdx\n",
      "\t\u001B[96m\u001B[1mjne\u001B[22m\u001B[39m\t\u001B[91mL384\u001B[39m\n",
      "\u001B[90m; ││││└└\u001B[39m\n",
      "\u001B[90m; ││││┌ @ simdloop.jl:75 within `macro expansion`\u001B[39m\n",
      "\t\u001B[96m\u001B[1mcmpq\u001B[22m\u001B[39m\t\u001B[0m%rdx\u001B[0m, \u001B[0m%r15\n",
      "\t\u001B[96m\u001B[1mje\u001B[22m\u001B[39m\t\u001B[91mL701\u001B[39m\n",
      "\u001B[91mL583:\u001B[39m\n",
      "\t\u001B[96m\u001B[1maddq\u001B[22m\u001B[39m\t\u001B[0m%rdx\u001B[0m, \u001B[0m%r12\n",
      "\t\u001B[96m\u001B[1maddq\u001B[22m\u001B[39m\t\u001B[0m%r12\u001B[0m, \u001B[0m%r12\n",
      "\t\u001B[96m\u001B[1mnopl\u001B[22m\u001B[39m\t\u001B[33m(\u001B[39m\u001B[0m%rax\u001B[33m)\u001B[39m\n",
      "\u001B[90m; ││││└\u001B[39m\n",
      "\u001B[90m; ││││┌ @ simdloop.jl:77 within `macro expansion` @ broadcast.jl:961\u001B[39m\n",
      "\u001B[90m; │││││┌ @ broadcast.jl:597 within `getindex`\u001B[39m\n",
      "\u001B[90m; ││││││┌ @ broadcast.jl:643 within `_broadcast_getindex`\u001B[39m\n",
      "\u001B[90m; │││││││┌ @ broadcast.jl:670 within `_broadcast_getindex_evalf`\u001B[39m\n",
      "\u001B[90m; ││││││││┌ @ intfuncs.jl:312 within `literal_pow`\u001B[39m\n",
      "\u001B[90m; │││││││││┌ @ int.jl:88 within `*`\u001B[39m\n",
      "\u001B[91mL592:\u001B[39m\n",
      "\t\u001B[96m\u001B[1mmovq\u001B[22m\u001B[39m\t\u001B[0m%r12\u001B[0m, \u001B[0m%rbx\n",
      "\u001B[90m; ││││└└└└└└\u001B[39m\n",
      "\u001B[90m; ││││┌ @ simdloop.jl:75 within `macro expansion`\u001B[39m\n",
      "\u001B[90m; │││││┌ @ int.jl:83 within `<`\u001B[39m\n",
      "\t\u001B[96m\u001B[1maddq\u001B[22m\u001B[39m\t\u001B[33m$2\u001B[39m\u001B[0m, \u001B[0m%r12\n",
      "\u001B[90m; ││││└└\u001B[39m\n",
      "\u001B[90m; ││││┌ @ simdloop.jl:77 within `macro expansion` @ broadcast.jl:961\u001B[39m\n",
      "\u001B[90m; │││││┌ @ broadcast.jl:597 within `getindex`\u001B[39m\n",
      "\u001B[90m; ││││││┌ @ broadcast.jl:643 within `_broadcast_getindex`\u001B[39m\n",
      "\u001B[90m; │││││││┌ @ broadcast.jl:670 within `_broadcast_getindex_evalf`\u001B[39m\n",
      "\u001B[90m; ││││││││┌ @ intfuncs.jl:312 within `literal_pow`\u001B[39m\n",
      "\u001B[90m; │││││││││┌ @ int.jl:88 within `*`\u001B[39m\n",
      "\t\u001B[96m\u001B[1mimulq\u001B[22m\u001B[39m\t\u001B[0m%rbx\u001B[0m, \u001B[0m%rbx\n",
      "\u001B[90m; │││││└└└└└\u001B[39m\n",
      "\u001B[90m; │││││┌ @ array.jl:903 within `setindex!`\u001B[39m\n",
      "\t\u001B[96m\u001B[1mmovq\u001B[22m\u001B[39m\t\u001B[0m%rbx\u001B[0m, \u001B[33m(\u001B[39m\u001B[0m%rcx\u001B[0m,\u001B[0m%rdx\u001B[0m,\u001B[33m8\u001B[39m\u001B[33m)\u001B[39m\n",
      "\u001B[90m; ││││└└\u001B[39m\n",
      "\u001B[90m; ││││┌ @ simdloop.jl:78 within `macro expansion`\u001B[39m\n",
      "\u001B[90m; │││││┌ @ int.jl:87 within `+`\u001B[39m\n",
      "\t\u001B[96m\u001B[1mincq\u001B[22m\u001B[39m\t\u001B[0m%rdx\n",
      "\u001B[90m; ││││└└\u001B[39m\n",
      "\u001B[90m; ││││┌ @ simdloop.jl:75 within `macro expansion`\u001B[39m\n",
      "\u001B[90m; │││││┌ @ int.jl:83 within `<`\u001B[39m\n",
      "\t\u001B[96m\u001B[1mcmpq\u001B[22m\u001B[39m\t\u001B[0m%rdx\u001B[0m, \u001B[0m%r15\n",
      "\u001B[90m; │││││└\u001B[39m\n",
      "\t\u001B[96m\u001B[1mjne\u001B[22m\u001B[39m\t\u001B[91mL592\u001B[39m\n",
      "\t\u001B[96m\u001B[1mjmp\u001B[22m\u001B[39m\t\u001B[91mL701\u001B[39m\n",
      "\u001B[91mL617:\u001B[39m\n",
      "\t\u001B[96m\u001B[1mvmovq\u001B[22m\u001B[39m\t\u001B[0m%r12\u001B[0m, \u001B[0m%xmm0\n",
      "\t\u001B[96m\u001B[1mmovq\u001B[22m\u001B[39m\t\u001B[0m%r15\u001B[0m, \u001B[0m%rdx\n",
      "\t\u001B[96m\u001B[1mxorl\u001B[22m\u001B[39m\t\u001B[0m%esi\u001B[0m, \u001B[0m%esi\n",
      "\t\u001B[96m\u001B[1mandq\u001B[22m\u001B[39m\t\u001B[33m$-16\u001B[39m\u001B[0m, \u001B[0m%rdx\n",
      "\t\u001B[96m\u001B[1mvpbroadcastq\u001B[22m\u001B[39m\t\u001B[0m%xmm0\u001B[0m, \u001B[0m%ymm0\n",
      "\t\u001B[96m\u001B[1mnopl\u001B[22m\u001B[39m\t\u001B[33m(\u001B[39m\u001B[0m%rax\u001B[33m)\u001B[39m\n",
      "\u001B[90m; ││││└\u001B[39m\n",
      "\u001B[90m; ││││┌ @ simdloop.jl:77 within `macro expansion` @ broadcast.jl:961\u001B[39m\n",
      "\u001B[90m; │││││┌ @ array.jl:903 within `setindex!`\u001B[39m\n",
      "\u001B[91mL640:\u001B[39m\n",
      "\t\u001B[96m\u001B[1mvmovdqu\u001B[22m\u001B[39m\t\u001B[0m%ymm0\u001B[0m, \u001B[33m(\u001B[39m\u001B[0m%rcx\u001B[0m,\u001B[0m%rsi\u001B[0m,\u001B[33m8\u001B[39m\u001B[33m)\u001B[39m\n",
      "\t\u001B[96m\u001B[1mvmovdqu\u001B[22m\u001B[39m\t\u001B[0m%ymm0\u001B[0m, \u001B[33m32\u001B[39m\u001B[33m(\u001B[39m\u001B[0m%rcx\u001B[0m,\u001B[0m%rsi\u001B[0m,\u001B[33m8\u001B[39m\u001B[33m)\u001B[39m\n",
      "\t\u001B[96m\u001B[1mvmovdqu\u001B[22m\u001B[39m\t\u001B[0m%ymm0\u001B[0m, \u001B[33m64\u001B[39m\u001B[33m(\u001B[39m\u001B[0m%rcx\u001B[0m,\u001B[0m%rsi\u001B[0m,\u001B[33m8\u001B[39m\u001B[33m)\u001B[39m\n",
      "\t\u001B[96m\u001B[1mvmovdqu\u001B[22m\u001B[39m\t\u001B[0m%ymm0\u001B[0m, \u001B[33m96\u001B[39m\u001B[33m(\u001B[39m\u001B[0m%rcx\u001B[0m,\u001B[0m%rsi\u001B[0m,\u001B[33m8\u001B[39m\u001B[33m)\u001B[39m\n",
      "\u001B[90m; ││││└└\u001B[39m\n",
      "\u001B[90m; ││││┌ @ simdloop.jl:78 within `macro expansion`\u001B[39m\n",
      "\u001B[90m; │││││┌ @ int.jl:87 within `+`\u001B[39m\n",
      "\t\u001B[96m\u001B[1maddq\u001B[22m\u001B[39m\t\u001B[33m$16\u001B[39m\u001B[0m, \u001B[0m%rsi\n",
      "\t\u001B[96m\u001B[1mcmpq\u001B[22m\u001B[39m\t\u001B[0m%rsi\u001B[0m, \u001B[0m%rdx\n",
      "\t\u001B[96m\u001B[1mjne\u001B[22m\u001B[39m\t\u001B[91mL640\u001B[39m\n",
      "\u001B[90m; ││││└└\u001B[39m\n",
      "\u001B[90m; ││││┌ @ simdloop.jl:75 within `macro expansion`\u001B[39m\n",
      "\t\u001B[96m\u001B[1mcmpq\u001B[22m\u001B[39m\t\u001B[0m%rdx\u001B[0m, \u001B[0m%r15\n",
      "\t\u001B[96m\u001B[1mje\u001B[22m\u001B[39m\t\u001B[91mL701\u001B[39m\n",
      "\t\u001B[96m\u001B[1mnopw\u001B[22m\u001B[39m\t\u001B[0m%cs\u001B[0m:\u001B[33m(\u001B[39m\u001B[0m%rax\u001B[0m,\u001B[0m%rax\u001B[33m)\u001B[39m\n",
      "\u001B[90m; ││││└\u001B[39m\n",
      "\u001B[90m; ││││┌ @ simdloop.jl:77 within `macro expansion` @ broadcast.jl:961\u001B[39m\n",
      "\u001B[90m; │││││┌ @ array.jl:903 within `setindex!`\u001B[39m\n",
      "\u001B[91mL688:\u001B[39m\n",
      "\t\u001B[96m\u001B[1mmovq\u001B[22m\u001B[39m\t\u001B[0m%r12\u001B[0m, \u001B[33m(\u001B[39m\u001B[0m%rcx\u001B[0m,\u001B[0m%rdx\u001B[0m,\u001B[33m8\u001B[39m\u001B[33m)\u001B[39m\n",
      "\u001B[90m; ││││└└\u001B[39m\n",
      "\u001B[90m; ││││┌ @ simdloop.jl:78 within `macro expansion`\u001B[39m\n",
      "\u001B[90m; │││││┌ @ int.jl:87 within `+`\u001B[39m\n",
      "\t\u001B[96m\u001B[1mincq\u001B[22m\u001B[39m\t\u001B[0m%rdx\n",
      "\u001B[90m; ││││└└\u001B[39m\n",
      "\u001B[90m; ││││┌ @ simdloop.jl:75 within `macro expansion`\u001B[39m\n",
      "\u001B[90m; │││││┌ @ int.jl:83 within `<`\u001B[39m\n",
      "\t\u001B[96m\u001B[1mcmpq\u001B[22m\u001B[39m\t\u001B[33m$1\u001B[39m\u001B[0m, \u001B[0m%rdx\n",
      "\u001B[90m; │││││└\u001B[39m\n",
      "\t\u001B[96m\u001B[1mjne\u001B[22m\u001B[39m\t\u001B[91mL688\u001B[39m\n",
      "\u001B[90m; │└└└└\u001B[39m\n",
      "\u001B[90m; │ @ simdloop.jl within `do_stuff1`\u001B[39m\n",
      "\u001B[91mL701:\u001B[39m\n",
      "\t\u001B[96m\u001B[1mmovq\u001B[22m\u001B[39m\t\u001B[33m-152\u001B[39m\u001B[33m(\u001B[39m\u001B[0m%rbp\u001B[33m)\u001B[39m\u001B[0m, \u001B[0m%rcx\n",
      "\t\u001B[96m\u001B[1mvmovaps\u001B[22m\u001B[39m\t\u001B[33m-128\u001B[39m\u001B[33m(\u001B[39m\u001B[0m%rbp\u001B[33m)\u001B[39m\u001B[0m, \u001B[0m%xmm6\n",
      "\t\u001B[96m\u001B[1mvmovaps\u001B[22m\u001B[39m\t\u001B[33m-112\u001B[39m\u001B[33m(\u001B[39m\u001B[0m%rbp\u001B[33m)\u001B[39m\u001B[0m, \u001B[0m%xmm7\n",
      "\t\u001B[96m\u001B[1mvmovaps\u001B[22m\u001B[39m\t\u001B[33m-96\u001B[39m\u001B[33m(\u001B[39m\u001B[0m%rbp\u001B[33m)\u001B[39m\u001B[0m, \u001B[0m%xmm8\n",
      "\t\u001B[96m\u001B[1mvmovaps\u001B[22m\u001B[39m\t\u001B[33m-80\u001B[39m\u001B[33m(\u001B[39m\u001B[0m%rbp\u001B[33m)\u001B[39m\u001B[0m, \u001B[0m%xmm9\n",
      "\t\u001B[96m\u001B[1mvmovaps\u001B[22m\u001B[39m\t\u001B[33m-64\u001B[39m\u001B[33m(\u001B[39m\u001B[0m%rbp\u001B[33m)\u001B[39m\u001B[0m, \u001B[0m%xmm10\n",
      "\t\u001B[96m\u001B[1mmovq\u001B[22m\u001B[39m\t\u001B[0m%rcx\u001B[0m, \u001B[33m(\u001B[39m\u001B[0m%r14\u001B[33m)\u001B[39m\n",
      "\u001B[90m; │ @ In[2]:1 within `do_stuff1`\u001B[39m\n",
      "\t\u001B[96m\u001B[1maddq\u001B[22m\u001B[39m\t\u001B[33m$176\u001B[39m\u001B[0m, \u001B[0m%rsp\n",
      "\t\u001B[96m\u001B[1mpopq\u001B[22m\u001B[39m\t\u001B[0m%rbx\n",
      "\t\u001B[96m\u001B[1mpopq\u001B[22m\u001B[39m\t\u001B[0m%rdi\n",
      "\t\u001B[96m\u001B[1mpopq\u001B[22m\u001B[39m\t\u001B[0m%rsi\n",
      "\t\u001B[96m\u001B[1mpopq\u001B[22m\u001B[39m\t\u001B[0m%r12\n",
      "\t\u001B[96m\u001B[1mpopq\u001B[22m\u001B[39m\t\u001B[0m%r14\n",
      "\t\u001B[96m\u001B[1mpopq\u001B[22m\u001B[39m\t\u001B[0m%r15\n",
      "\t\u001B[96m\u001B[1mpopq\u001B[22m\u001B[39m\t\u001B[0m%rbp\n",
      "\t\u001B[96m\u001B[1mvzeroupper\u001B[22m\u001B[39m\n",
      "\t\u001B[96m\u001B[1mretq\u001B[22m\u001B[39m\n",
      "\u001B[90m; │┌ @ broadcast.jl:1303 within `broadcasted` @ broadcast.jl:1126\u001B[39m\n",
      "\u001B[90m; ││┌ @ range.jl:451 within `StepRangeLen` @ range.jl:451 @ range.jl:441\u001B[39m\n",
      "\u001B[91mL757:\u001B[39m\n",
      "\t\u001B[96m\u001B[1mmovabsq\u001B[22m\u001B[39m\t\u001B[93m$jl_box_int64\u001B[39m\u001B[0m, \u001B[0m%rax\n",
      "\t\u001B[96m\u001B[1mmovq\u001B[22m\u001B[39m\t\u001B[0m%r15\u001B[0m, \u001B[0m%rcx\n",
      "\t\u001B[96m\u001B[1mcallq\u001B[22m\u001B[39m\t\u001B[0m*\u001B[0m%rax\n",
      "\t\u001B[96m\u001B[1mleaq\u001B[22m\u001B[39m\t\u001B[33m-192\u001B[39m\u001B[33m(\u001B[39m\u001B[0m%rbp\u001B[33m)\u001B[39m\u001B[0m, \u001B[0m%rsi\n",
      "\t\u001B[96m\u001B[1mmovabsq\u001B[22m\u001B[39m\t\u001B[93m$jl_apply_generic\u001B[39m\u001B[0m, \u001B[0m%rdi\n",
      "\t\u001B[96m\u001B[1mmovl\u001B[22m\u001B[39m\t\u001B[33m$316860896\u001B[39m\u001B[0m, \u001B[0m%ecx                \u001B[90m# imm = 0x12E2E9E0\u001B[39m\n",
      "\t\u001B[96m\u001B[1mmovl\u001B[22m\u001B[39m\t\u001B[33m$2\u001B[39m\u001B[0m, \u001B[0m%r8d\n",
      "\t\u001B[96m\u001B[1mmovq\u001B[22m\u001B[39m\t\u001B[33m$382668096\u001B[39m\u001B[0m, \u001B[33m-192\u001B[39m\u001B[33m(\u001B[39m\u001B[0m%rbp\u001B[33m)\u001B[39m          \u001B[90m# imm = 0x16CF0D40\u001B[39m\n",
      "\t\u001B[96m\u001B[1mmovq\u001B[22m\u001B[39m\t\u001B[0m%rax\u001B[0m, \u001B[33m-144\u001B[39m\u001B[33m(\u001B[39m\u001B[0m%rbp\u001B[33m)\u001B[39m\n",
      "\t\u001B[96m\u001B[1mmovq\u001B[22m\u001B[39m\t\u001B[0m%rax\u001B[0m, \u001B[33m-184\u001B[39m\u001B[33m(\u001B[39m\u001B[0m%rbp\u001B[33m)\u001B[39m\n",
      "\t\u001B[96m\u001B[1mmovq\u001B[22m\u001B[39m\t\u001B[0m%rsi\u001B[0m, \u001B[0m%rdx\n",
      "\t\u001B[96m\u001B[1mcallq\u001B[22m\u001B[39m\t\u001B[0m*\u001B[0m%rdi\n",
      "\t\u001B[96m\u001B[1mmovl\u001B[22m\u001B[39m\t\u001B[33m$316013696\u001B[39m\u001B[0m, \u001B[0m%ecx                \u001B[90m# imm = 0x12D5FC80\u001B[39m\n",
      "\t\u001B[96m\u001B[1mmovq\u001B[22m\u001B[39m\t\u001B[0m%rsi\u001B[0m, \u001B[0m%rdx\n",
      "\t\u001B[96m\u001B[1mmovl\u001B[22m\u001B[39m\t\u001B[33m$1\u001B[39m\u001B[0m, \u001B[0m%r8d\n",
      "\t\u001B[96m\u001B[1mmovq\u001B[22m\u001B[39m\t\u001B[0m%rax\u001B[0m, \u001B[33m-144\u001B[39m\u001B[33m(\u001B[39m\u001B[0m%rbp\u001B[33m)\u001B[39m\n",
      "\t\u001B[96m\u001B[1mmovq\u001B[22m\u001B[39m\t\u001B[0m%rax\u001B[0m, \u001B[33m-192\u001B[39m\u001B[33m(\u001B[39m\u001B[0m%rbp\u001B[33m)\u001B[39m\n",
      "\t\u001B[96m\u001B[1mcallq\u001B[22m\u001B[39m\t\u001B[0m*\u001B[0m%rdi\n",
      "\t\u001B[96m\u001B[1mmovabsq\u001B[22m\u001B[39m\t\u001B[93m$jl_throw\u001B[39m\u001B[0m, \u001B[0m%rdx\n",
      "\t\u001B[96m\u001B[1mmovq\u001B[22m\u001B[39m\t\u001B[0m%rax\u001B[0m, \u001B[0m%rcx\n",
      "\t\u001B[96m\u001B[1mcallq\u001B[22m\u001B[39m\t\u001B[0m*\u001B[0m%rdx\n",
      "\t\u001B[96m\u001B[1mnopl\u001B[22m\u001B[39m\t\u001B[33m(\u001B[39m\u001B[0m%rax\u001B[0m,\u001B[0m%rax\u001B[33m)\u001B[39m\n",
      "\u001B[90m; └└└\u001B[39m\n"
     ]
    }
   ],
   "source": [
    "@code_native do_stuff1(1:100_000)"
   ]
  },
  {
   "cell_type": "markdown",
   "metadata": {
    "pycharm": {
     "name": "#%% md\n"
    }
   },
   "source": [
    "# AD in Zygote"
   ]
  },
  {
   "cell_type": "markdown",
   "metadata": {
    "pycharm": {
     "name": "#%% md\n"
    }
   },
   "source": [
    "$$\n",
    "{\\displaystyle {\\tfrac {1}{2}}\\mathbf {x} ^{\\mathrm {T} }Q\\mathbf {x} +\\mathbf {c} ^{\\mathrm {T} }\\mathbf {x} }\n",
    "$$"
   ]
  },
  {
   "cell_type": "code",
   "execution_count": 14,
   "metadata": {
    "pycharm": {
     "name": "#%%\n"
    }
   },
   "outputs": [],
   "source": [
    "using Zygote"
   ]
  },
  {
   "cell_type": "code",
   "execution_count": 82,
   "metadata": {
    "pycharm": {
     "name": "#%%\n"
    }
   },
   "outputs": [],
   "source": [
    "x = [2.,1.];"
   ]
  },
  {
   "cell_type": "code",
   "execution_count": 83,
   "metadata": {
    "pycharm": {
     "name": "#%%\n"
    }
   },
   "outputs": [],
   "source": [
    "c = [1., 2.];"
   ]
  },
  {
   "cell_type": "code",
   "execution_count": 84,
   "metadata": {
    "pycharm": {
     "name": "#%%\n"
    }
   },
   "outputs": [],
   "source": [
    "Q = [2. 3.; 4. 5.];"
   ]
  },
  {
   "cell_type": "code",
   "execution_count": 85,
   "metadata": {
    "pycharm": {
     "name": "#%%\n"
    }
   },
   "outputs": [],
   "source": [
    "loss(x) = 0.5*x'*Q*x + c'*x;"
   ]
  },
  {
   "cell_type": "code",
   "execution_count": 86,
   "metadata": {
    "pycharm": {
     "name": "#%%\n"
    }
   },
   "outputs": [
    {
     "data": {
      "text/plain": [
       "17.5"
      ]
     },
     "execution_count": 86,
     "metadata": {},
     "output_type": "execute_result"
    }
   ],
   "source": [
    "loss(x)"
   ]
  },
  {
   "cell_type": "code",
   "execution_count": 87,
   "metadata": {
    "pycharm": {
     "name": "#%%\n"
    }
   },
   "outputs": [
    {
     "data": {
      "text/plain": [
       "([8.5, 14.0],)"
      ]
     },
     "execution_count": 87,
     "metadata": {},
     "output_type": "execute_result"
    }
   ],
   "source": [
    "gradient(loss, x)"
   ]
  },
  {
   "cell_type": "code",
   "execution_count": 92,
   "metadata": {
    "pycharm": {
     "name": "#%%\n"
    }
   },
   "outputs": [
    {
     "name": "stdout",
     "output_type": "stream",
     "text": [
      "\t\u001B[0m.text\n",
      "\u001B[90m; ┌ @ In[85]:1 within `loss`\u001B[39m\n",
      "\t\u001B[96m\u001B[1mpushq\u001B[22m\u001B[39m\t\u001B[0m%rbp\n",
      "\t\u001B[96m\u001B[1mmovq\u001B[22m\u001B[39m\t\u001B[0m%rsp\u001B[0m, \u001B[0m%rbp\n",
      "\t\u001B[96m\u001B[1mpushq\u001B[22m\u001B[39m\t\u001B[0m%r15\n",
      "\t\u001B[96m\u001B[1mpushq\u001B[22m\u001B[39m\t\u001B[0m%r14\n",
      "\t\u001B[96m\u001B[1mpushq\u001B[22m\u001B[39m\t\u001B[0m%r12\n",
      "\t\u001B[96m\u001B[1mpushq\u001B[22m\u001B[39m\t\u001B[0m%rsi\n",
      "\t\u001B[96m\u001B[1mpushq\u001B[22m\u001B[39m\t\u001B[0m%rdi\n",
      "\t\u001B[96m\u001B[1mpushq\u001B[22m\u001B[39m\t\u001B[0m%rbx\n",
      "\t\u001B[96m\u001B[1mandq\u001B[22m\u001B[39m\t\u001B[33m$-32\u001B[39m\u001B[0m, \u001B[0m%rsp\n",
      "\t\u001B[96m\u001B[1msubq\u001B[22m\u001B[39m\t\u001B[33m$128\u001B[39m\u001B[0m, \u001B[0m%rsp\n",
      "\t\u001B[96m\u001B[1mvxorps\u001B[22m\u001B[39m\t\u001B[0m%xmm0\u001B[0m, \u001B[0m%xmm0\u001B[0m, \u001B[0m%xmm0\n",
      "\t\u001B[96m\u001B[1mmovl\u001B[22m\u001B[39m\t\u001B[93m$jl_get_pgcstack\u001B[39m\u001B[0m, \u001B[0m%eax\n",
      "\t\u001B[96m\u001B[1mmovq\u001B[22m\u001B[39m\t\u001B[0m%rdx\u001B[0m, \u001B[0m%rdi\n",
      "\t\u001B[96m\u001B[1mvmovaps\u001B[22m\u001B[39m\t\u001B[0m%ymm0\u001B[0m, \u001B[33m32\u001B[39m\u001B[33m(\u001B[39m\u001B[0m%rsp\u001B[33m)\u001B[39m\n",
      "\t\u001B[96m\u001B[1mmovq\u001B[22m\u001B[39m\t\u001B[0m%rdi\u001B[0m, \u001B[33m120\u001B[39m\u001B[33m(\u001B[39m\u001B[0m%rsp\u001B[33m)\u001B[39m\n",
      "\t\u001B[96m\u001B[1mvzeroupper\u001B[22m\u001B[39m\n",
      "\t\u001B[96m\u001B[1mcallq\u001B[22m\u001B[39m\t\u001B[0m*\u001B[0m%rax\n",
      "\t\u001B[96m\u001B[1mmovq\u001B[22m\u001B[39m\t\u001B[0m%rax\u001B[0m, \u001B[0m%rsi\n",
      "\t\u001B[96m\u001B[1mmovq\u001B[22m\u001B[39m\t\u001B[33m$8\u001B[39m\u001B[0m, \u001B[33m32\u001B[39m\u001B[33m(\u001B[39m\u001B[0m%rsp\u001B[33m)\u001B[39m\n",
      "\t\u001B[96m\u001B[1mleaq\u001B[22m\u001B[39m\t\u001B[33m32\u001B[39m\u001B[33m(\u001B[39m\u001B[0m%rsp\u001B[33m)\u001B[39m\u001B[0m, \u001B[0m%rcx\n",
      "\t\u001B[96m\u001B[1mmovl\u001B[22m\u001B[39m\t\u001B[33m$3810284200\u001B[39m\u001B[0m, \u001B[0m%r12d              \u001B[90m# imm = 0xE31C52A8\u001B[39m\n",
      "\t\u001B[96m\u001B[1mmovl\u001B[22m\u001B[39m\t\u001B[33m$1392\u001B[39m\u001B[0m, \u001B[0m%edx                     \u001B[90m# imm = 0x570\u001B[39m\n",
      "\t\u001B[96m\u001B[1mmovl\u001B[22m\u001B[39m\t\u001B[33m$16\u001B[39m\u001B[0m, \u001B[0m%r8d\n",
      "\t\u001B[96m\u001B[1mmovq\u001B[22m\u001B[39m\t\u001B[33m(\u001B[39m\u001B[0m%rsi\u001B[33m)\u001B[39m\u001B[0m, \u001B[0m%rax\n",
      "\t\u001B[96m\u001B[1mmovq\u001B[22m\u001B[39m\t\u001B[0m%rax\u001B[0m, \u001B[33m40\u001B[39m\u001B[33m(\u001B[39m\u001B[0m%rsp\u001B[33m)\u001B[39m\n",
      "\t\u001B[96m\u001B[1mmovq\u001B[22m\u001B[39m\t\u001B[0m%rcx\u001B[0m, \u001B[33m(\u001B[39m\u001B[0m%rsi\u001B[33m)\u001B[39m\n",
      "\t\u001B[96m\u001B[1mmovabsq\u001B[22m\u001B[39m\t\u001B[93m$jl_gc_pool_alloc\u001B[39m\u001B[0m, \u001B[0m%rax\n",
      "\t\u001B[96m\u001B[1mmovq\u001B[22m\u001B[39m\t\u001B[33m(\u001B[39m\u001B[0m%r12\u001B[33m)\u001B[39m\u001B[0m, \u001B[0m%rbx\n",
      "\t\u001B[96m\u001B[1mmovq\u001B[22m\u001B[39m\t\u001B[33m16\u001B[39m\u001B[33m(\u001B[39m\u001B[0m%rsi\u001B[33m)\u001B[39m\u001B[0m, \u001B[0m%rcx\n",
      "\t\u001B[96m\u001B[1mmovq\u001B[22m\u001B[39m\t\u001B[33m(\u001B[39m\u001B[0m%rdi\u001B[33m)\u001B[39m\u001B[0m, \u001B[0m%rdi\n",
      "\t\u001B[96m\u001B[1mmovq\u001B[22m\u001B[39m\t\u001B[0m%rbx\u001B[0m, \u001B[33m48\u001B[39m\u001B[33m(\u001B[39m\u001B[0m%rsp\u001B[33m)\u001B[39m\n",
      "\t\u001B[96m\u001B[1mcallq\u001B[22m\u001B[39m\t\u001B[0m*\u001B[0m%rax\n",
      "\t\u001B[96m\u001B[1mleaq\u001B[22m\u001B[39m\t\u001B[0muv_tcp_non_ifs_lsp_ipv4\u001B[33m(\u001B[39m\u001B[0m%r12\u001B[33m)\u001B[39m\u001B[0m, \u001B[0m%rcx\n",
      "\t\u001B[96m\u001B[1mleaq\u001B[22m\u001B[39m\t\u001B[33m88\u001B[39m\u001B[33m(\u001B[39m\u001B[0m%rsp\u001B[33m)\u001B[39m\u001B[0m, \u001B[0m%r14\n",
      "\t\u001B[96m\u001B[1mmovabsq\u001B[22m\u001B[39m\t\u001B[93m$jl_apply_generic\u001B[39m\u001B[0m, \u001B[0m%r15\n",
      "\t\u001B[96m\u001B[1mmovl\u001B[22m\u001B[39m\t\u001B[33m$4\u001B[39m\u001B[0m, \u001B[0m%r8d\n",
      "\t\u001B[96m\u001B[1mmovq\u001B[22m\u001B[39m\t\u001B[0m%rcx\u001B[0m, \u001B[33m-8\u001B[39m\u001B[33m(\u001B[39m\u001B[0m%rax\u001B[33m)\u001B[39m\n",
      "\t\u001B[96m\u001B[1mmovl\u001B[22m\u001B[39m\t\u001B[33m$3958726016\u001B[39m\u001B[0m, \u001B[0m%ecx               \u001B[90m# imm = 0xEBF55D80\u001B[39m\n",
      "\t\u001B[96m\u001B[1mmovq\u001B[22m\u001B[39m\t\u001B[0m%r14\u001B[0m, \u001B[0m%rdx\n",
      "\t\u001B[96m\u001B[1mmovq\u001B[22m\u001B[39m\t\u001B[0m%rdi\u001B[0m, \u001B[33m(\u001B[39m\u001B[0m%rax\u001B[33m)\u001B[39m\n",
      "\t\u001B[96m\u001B[1mmovq\u001B[22m\u001B[39m\t\u001B[0m%rax\u001B[0m, \u001B[33m56\u001B[39m\u001B[33m(\u001B[39m\u001B[0m%rsp\u001B[33m)\u001B[39m\n",
      "\t\u001B[96m\u001B[1mmovq\u001B[22m\u001B[39m\t\u001B[0m%rcx\u001B[0m, \u001B[33m88\u001B[39m\u001B[33m(\u001B[39m\u001B[0m%rsp\u001B[33m)\u001B[39m\n",
      "\t\u001B[96m\u001B[1mmovl\u001B[22m\u001B[39m\t\u001B[33m$354907536\u001B[39m\u001B[0m, \u001B[0m%ecx                \u001B[90m# imm = 0x15277590\u001B[39m\n",
      "\t\u001B[96m\u001B[1mmovq\u001B[22m\u001B[39m\t\u001B[0m%rax\u001B[0m, \u001B[33m96\u001B[39m\u001B[33m(\u001B[39m\u001B[0m%rsp\u001B[33m)\u001B[39m\n",
      "\t\u001B[96m\u001B[1mmovq\u001B[22m\u001B[39m\t\u001B[0m%rbx\u001B[0m, \u001B[33m104\u001B[39m\u001B[33m(\u001B[39m\u001B[0m%rsp\u001B[33m)\u001B[39m\n",
      "\t\u001B[96m\u001B[1mmovq\u001B[22m\u001B[39m\t\u001B[0m%rdi\u001B[0m, \u001B[33m112\u001B[39m\u001B[33m(\u001B[39m\u001B[0m%rsp\u001B[33m)\u001B[39m\n",
      "\t\u001B[96m\u001B[1mcallq\u001B[22m\u001B[39m\t\u001B[0m*\u001B[0m%r15\n",
      "\t\u001B[96m\u001B[1mmovq\u001B[22m\u001B[39m\t\u001B[33m17233376\u001B[39m\u001B[33m(\u001B[39m\u001B[0m%r12\u001B[33m)\u001B[39m\u001B[0m, \u001B[0m%rcx\n",
      "\t\u001B[96m\u001B[1mmovq\u001B[22m\u001B[39m\t\u001B[0m%rax\u001B[0m, \u001B[0m%rbx\n",
      "\t\u001B[96m\u001B[1mmovq\u001B[22m\u001B[39m\t\u001B[0m%r14\u001B[0m, \u001B[0m%rdx\n",
      "\t\u001B[96m\u001B[1mmovl\u001B[22m\u001B[39m\t\u001B[33m$1\u001B[39m\u001B[0m, \u001B[0m%r8d\n",
      "\t\u001B[96m\u001B[1mmovq\u001B[22m\u001B[39m\t\u001B[0m%rbx\u001B[0m, \u001B[33m56\u001B[39m\u001B[33m(\u001B[39m\u001B[0m%rsp\u001B[33m)\u001B[39m\n",
      "\t\u001B[96m\u001B[1mmovq\u001B[22m\u001B[39m\t\u001B[0m%rcx\u001B[0m, \u001B[33m48\u001B[39m\u001B[33m(\u001B[39m\u001B[0m%rsp\u001B[33m)\u001B[39m\n",
      "\t\u001B[96m\u001B[1mmovq\u001B[22m\u001B[39m\t\u001B[0m%rcx\u001B[0m, \u001B[33m88\u001B[39m\u001B[33m(\u001B[39m\u001B[0m%rsp\u001B[33m)\u001B[39m\n",
      "\t\u001B[96m\u001B[1mmovl\u001B[22m\u001B[39m\t\u001B[33m$344929200\u001B[39m\u001B[0m, \u001B[0m%ecx                \u001B[90m# imm = 0x148F33B0\u001B[39m\n",
      "\t\u001B[96m\u001B[1mcallq\u001B[22m\u001B[39m\t\u001B[0m*\u001B[0m%r15\n",
      "\t\u001B[96m\u001B[1mmovl\u001B[22m\u001B[39m\t\u001B[33m$354907536\u001B[39m\u001B[0m, \u001B[0m%ecx                \u001B[90m# imm = 0x15277590\u001B[39m\n",
      "\t\u001B[96m\u001B[1mmovq\u001B[22m\u001B[39m\t\u001B[0m%r14\u001B[0m, \u001B[0m%rdx\n",
      "\t\u001B[96m\u001B[1mmovl\u001B[22m\u001B[39m\t\u001B[33m$2\u001B[39m\u001B[0m, \u001B[0m%r8d\n",
      "\t\u001B[96m\u001B[1mmovq\u001B[22m\u001B[39m\t\u001B[0m%rax\u001B[0m, \u001B[33m88\u001B[39m\u001B[33m(\u001B[39m\u001B[0m%rsp\u001B[33m)\u001B[39m\n",
      "\t\u001B[96m\u001B[1mmovq\u001B[22m\u001B[39m\t\u001B[0m%rax\u001B[0m, \u001B[33m48\u001B[39m\u001B[33m(\u001B[39m\u001B[0m%rsp\u001B[33m)\u001B[39m\n",
      "\t\u001B[96m\u001B[1mmovq\u001B[22m\u001B[39m\t\u001B[0m%rdi\u001B[0m, \u001B[33m96\u001B[39m\u001B[33m(\u001B[39m\u001B[0m%rsp\u001B[33m)\u001B[39m\n",
      "\t\u001B[96m\u001B[1mcallq\u001B[22m\u001B[39m\t\u001B[0m*\u001B[0m%r15\n",
      "\t\u001B[96m\u001B[1mmovl\u001B[22m\u001B[39m\t\u001B[33m$328824656\u001B[39m\u001B[0m, \u001B[0m%ecx                \u001B[90m# imm = 0x13997750\u001B[39m\n",
      "\t\u001B[96m\u001B[1mmovq\u001B[22m\u001B[39m\t\u001B[0m%r14\u001B[0m, \u001B[0m%rdx\n",
      "\t\u001B[96m\u001B[1mmovl\u001B[22m\u001B[39m\t\u001B[33m$2\u001B[39m\u001B[0m, \u001B[0m%r8d\n",
      "\t\u001B[96m\u001B[1mmovq\u001B[22m\u001B[39m\t\u001B[0m%rbx\u001B[0m, \u001B[33m88\u001B[39m\u001B[33m(\u001B[39m\u001B[0m%rsp\u001B[33m)\u001B[39m\n",
      "\t\u001B[96m\u001B[1mmovq\u001B[22m\u001B[39m\t\u001B[0m%rax\u001B[0m, \u001B[33m48\u001B[39m\u001B[33m(\u001B[39m\u001B[0m%rsp\u001B[33m)\u001B[39m\n",
      "\t\u001B[96m\u001B[1mmovq\u001B[22m\u001B[39m\t\u001B[0m%rax\u001B[0m, \u001B[33m96\u001B[39m\u001B[33m(\u001B[39m\u001B[0m%rsp\u001B[33m)\u001B[39m\n",
      "\t\u001B[96m\u001B[1mcallq\u001B[22m\u001B[39m\t\u001B[0m*\u001B[0m%r15\n",
      "\t\u001B[96m\u001B[1mmovq\u001B[22m\u001B[39m\t\u001B[33m40\u001B[39m\u001B[33m(\u001B[39m\u001B[0m%rsp\u001B[33m)\u001B[39m\u001B[0m, \u001B[0m%rcx\n",
      "\t\u001B[96m\u001B[1mmovq\u001B[22m\u001B[39m\t\u001B[0m%rcx\u001B[0m, \u001B[33m(\u001B[39m\u001B[0m%rsi\u001B[33m)\u001B[39m\n",
      "\t\u001B[96m\u001B[1mleaq\u001B[22m\u001B[39m\t\u001B[33m-48\u001B[39m\u001B[33m(\u001B[39m\u001B[0m%rbp\u001B[33m)\u001B[39m\u001B[0m, \u001B[0m%rsp\n",
      "\t\u001B[96m\u001B[1mpopq\u001B[22m\u001B[39m\t\u001B[0m%rbx\n",
      "\t\u001B[96m\u001B[1mpopq\u001B[22m\u001B[39m\t\u001B[0m%rdi\n",
      "\t\u001B[96m\u001B[1mpopq\u001B[22m\u001B[39m\t\u001B[0m%rsi\n",
      "\t\u001B[96m\u001B[1mpopq\u001B[22m\u001B[39m\t\u001B[0m%r12\n",
      "\t\u001B[96m\u001B[1mpopq\u001B[22m\u001B[39m\t\u001B[0m%r14\n",
      "\t\u001B[96m\u001B[1mpopq\u001B[22m\u001B[39m\t\u001B[0m%r15\n",
      "\t\u001B[96m\u001B[1mpopq\u001B[22m\u001B[39m\t\u001B[0m%rbp\n",
      "\t\u001B[96m\u001B[1mretq\u001B[22m\u001B[39m\n",
      "\u001B[90m; └\u001B[39m\n"
     ]
    }
   ],
   "source": [
    "@code_native loss(x)"
   ]
  },
  {
   "cell_type": "code",
   "execution_count": 90,
   "metadata": {
    "pycharm": {
     "name": "#%%\n"
    }
   },
   "outputs": [
    {
     "name": "stdout",
     "output_type": "stream",
     "text": [
      "\t\u001B[0m.text\n",
      "\u001B[90m; ┌ @ interface.jl:74 within `gradient`\u001B[39m\n",
      "\t\u001B[96m\u001B[1mpushq\u001B[22m\u001B[39m\t\u001B[0m%rbp\n",
      "\t\u001B[96m\u001B[1mmovq\u001B[22m\u001B[39m\t\u001B[0m%rsp\u001B[0m, \u001B[0m%rbp\n",
      "\t\u001B[96m\u001B[1mpushq\u001B[22m\u001B[39m\t\u001B[0m%r15\n",
      "\t\u001B[96m\u001B[1mpushq\u001B[22m\u001B[39m\t\u001B[0m%r14\n",
      "\t\u001B[96m\u001B[1mpushq\u001B[22m\u001B[39m\t\u001B[0m%r12\n",
      "\t\u001B[96m\u001B[1mpushq\u001B[22m\u001B[39m\t\u001B[0m%rsi\n",
      "\t\u001B[96m\u001B[1mpushq\u001B[22m\u001B[39m\t\u001B[0m%rdi\n",
      "\t\u001B[96m\u001B[1mpushq\u001B[22m\u001B[39m\t\u001B[0m%rbx\n",
      "\t\u001B[96m\u001B[1mandq\u001B[22m\u001B[39m\t\u001B[33m$-32\u001B[39m\u001B[0m, \u001B[0m%rsp\n",
      "\t\u001B[96m\u001B[1msubq\u001B[22m\u001B[39m\t\u001B[33m$128\u001B[39m\u001B[0m, \u001B[0m%rsp\n",
      "\t\u001B[96m\u001B[1mvxorps\u001B[22m\u001B[39m\t\u001B[0m%xmm0\u001B[0m, \u001B[0m%xmm0\u001B[0m, \u001B[0m%xmm0\n",
      "\t\u001B[96m\u001B[1mmovl\u001B[22m\u001B[39m\t\u001B[93m$jl_get_pgcstack\u001B[39m\u001B[0m, \u001B[0m%eax\n",
      "\t\u001B[96m\u001B[1mmovq\u001B[22m\u001B[39m\t\u001B[0m%rdx\u001B[0m, \u001B[0m%rbx\n",
      "\t\u001B[96m\u001B[1mmovl\u001B[22m\u001B[39m\t\u001B[0m%r8d\u001B[0m, \u001B[0m%edi\n",
      "\t\u001B[96m\u001B[1mvmovups\u001B[22m\u001B[39m\t\u001B[0m%ymm0\u001B[0m, \u001B[33m80\u001B[39m\u001B[33m(\u001B[39m\u001B[0m%rsp\u001B[33m)\u001B[39m\n",
      "\t\u001B[96m\u001B[1mvmovaps\u001B[22m\u001B[39m\t\u001B[0m%ymm0\u001B[0m, \u001B[33m64\u001B[39m\u001B[33m(\u001B[39m\u001B[0m%rsp\u001B[33m)\u001B[39m\n",
      "\t\u001B[96m\u001B[1mmovq\u001B[22m\u001B[39m\t\u001B[0m%rbx\u001B[0m, \u001B[33m120\u001B[39m\u001B[33m(\u001B[39m\u001B[0m%rsp\u001B[33m)\u001B[39m\n",
      "\t\u001B[96m\u001B[1mvzeroupper\u001B[22m\u001B[39m\n",
      "\t\u001B[96m\u001B[1mcallq\u001B[22m\u001B[39m\t\u001B[0m*\u001B[0m%rax\n",
      "\t\u001B[96m\u001B[1mmovq\u001B[22m\u001B[39m\t\u001B[0m%rax\u001B[0m, \u001B[0m%r15\n",
      "\t\u001B[96m\u001B[1mmovq\u001B[22m\u001B[39m\t\u001B[33m$16\u001B[39m\u001B[0m, \u001B[33m64\u001B[39m\u001B[33m(\u001B[39m\u001B[0m%rsp\u001B[33m)\u001B[39m\n",
      "\t\u001B[96m\u001B[1mleaq\u001B[22m\u001B[39m\t\u001B[33m64\u001B[39m\u001B[33m(\u001B[39m\u001B[0m%rsp\u001B[33m)\u001B[39m\u001B[0m, \u001B[0m%rdx\n",
      "\t\u001B[96m\u001B[1maddq\u001B[22m\u001B[39m\t\u001B[33m$8\u001B[39m\u001B[0m, \u001B[0m%rbx\n",
      "\u001B[90m; │ @ interface.jl:75 within `gradient`\u001B[39m\n",
      "\t\u001B[96m\u001B[1mleal\u001B[22m\u001B[39m\t\u001B[33m-1\u001B[39m\u001B[33m(\u001B[39m\u001B[0m%rdi\u001B[33m)\u001B[39m\u001B[0m, \u001B[0m%r8d\n",
      "\t\u001B[96m\u001B[1mxorl\u001B[22m\u001B[39m\t\u001B[0m%ecx\u001B[0m, \u001B[0m%ecx\n",
      "\t\u001B[96m\u001B[1mmovq\u001B[22m\u001B[39m\t\u001B[33m(\u001B[39m\u001B[0m%r15\u001B[33m)\u001B[39m\u001B[0m, \u001B[0m%rax\n",
      "\t\u001B[96m\u001B[1mmovq\u001B[22m\u001B[39m\t\u001B[0m%rax\u001B[0m, \u001B[33m72\u001B[39m\u001B[33m(\u001B[39m\u001B[0m%rsp\u001B[33m)\u001B[39m\n",
      "\t\u001B[96m\u001B[1mmovq\u001B[22m\u001B[39m\t\u001B[0m%rdx\u001B[0m, \u001B[33m(\u001B[39m\u001B[0m%r15\u001B[33m)\u001B[39m\n",
      "\t\u001B[96m\u001B[1mmovabsq\u001B[22m\u001B[39m\t\u001B[93m$jl_f_tuple\u001B[39m\u001B[0m, \u001B[0m%rax\n",
      "\t\u001B[96m\u001B[1mmovq\u001B[22m\u001B[39m\t\u001B[0m%rbx\u001B[0m, \u001B[0m%rdx\n",
      "\t\u001B[96m\u001B[1mcallq\u001B[22m\u001B[39m\t\u001B[0m*\u001B[0m%rax\n",
      "\t\u001B[96m\u001B[1mdecl\u001B[22m\u001B[39m\t\u001B[0m%edi\n",
      "\t\u001B[96m\u001B[1mje\u001B[22m\u001B[39m\t\u001B[91mL609\u001B[39m\n",
      "\u001B[90m; │┌ @ interface.jl:40 within `pullback`\u001B[39m\n",
      "\u001B[90m; ││┌ @ interface.jl:34 within `_pullback`\u001B[39m\n",
      "\u001B[90m; │││┌ @ interface.jl:11 within `Context` @ interface.jl:8\u001B[39m\n",
      "\t\u001B[96m\u001B[1mmovq\u001B[22m\u001B[39m\t\u001B[33m16\u001B[39m\u001B[33m(\u001B[39m\u001B[0m%r15\u001B[33m)\u001B[39m\u001B[0m, \u001B[0m%rcx\n",
      "\u001B[90m; │└└└\u001B[39m\n",
      "\t\u001B[96m\u001B[1mmovq\u001B[22m\u001B[39m\t\u001B[33m(\u001B[39m\u001B[0m%rbx\u001B[33m)\u001B[39m\u001B[0m, \u001B[0m%rsi\n",
      "\t\u001B[96m\u001B[1mmovq\u001B[22m\u001B[39m\t\u001B[0m%rax\u001B[0m, \u001B[0m%r14\n",
      "\u001B[90m; │┌ @ interface.jl:40 within `pullback`\u001B[39m\n",
      "\u001B[90m; ││┌ @ interface.jl:34 within `_pullback`\u001B[39m\n",
      "\u001B[90m; │││┌ @ interface.jl:11 within `Context` @ interface.jl:8\u001B[39m\n",
      "\t\u001B[96m\u001B[1mmovabsq\u001B[22m\u001B[39m\t\u001B[93m$jl_gc_pool_alloc\u001B[39m\u001B[0m, \u001B[0m%rax\n",
      "\t\u001B[96m\u001B[1mmovl\u001B[22m\u001B[39m\t\u001B[33m$1392\u001B[39m\u001B[0m, \u001B[0m%edx                     \u001B[90m# imm = 0x570\u001B[39m\n",
      "\t\u001B[96m\u001B[1mmovl\u001B[22m\u001B[39m\t\u001B[33m$16\u001B[39m\u001B[0m, \u001B[0m%r8d\n",
      "\t\u001B[96m\u001B[1mmovq\u001B[22m\u001B[39m\t\u001B[0m%r14\u001B[0m, \u001B[33m88\u001B[39m\u001B[33m(\u001B[39m\u001B[0m%rsp\u001B[33m)\u001B[39m\n",
      "\t\u001B[96m\u001B[1mcallq\u001B[22m\u001B[39m\t\u001B[0m*\u001B[0m%rax\n",
      "\t\u001B[96m\u001B[1mmovl\u001B[22m\u001B[39m\t\u001B[33m$3869854304\u001B[39m\u001B[0m, \u001B[0m%ecx               \u001B[90m# imm = 0xE6A94A60\u001B[39m\n",
      "\t\u001B[96m\u001B[1mleaq\u001B[22m\u001B[39m\t\u001B[33m40\u001B[39m\u001B[33m(\u001B[39m\u001B[0m%rsp\u001B[33m)\u001B[39m\u001B[0m, \u001B[0m%rbx\n",
      "\u001B[90m; │││└\u001B[39m\n",
      "\t\u001B[96m\u001B[1mmovl\u001B[22m\u001B[39m\t\u001B[33m$3\u001B[39m\u001B[0m, \u001B[0m%r8d\n",
      "\u001B[90m; │││┌ @ interface.jl:11 within `Context` @ interface.jl:8\u001B[39m\n",
      "\t\u001B[96m\u001B[1mmovq\u001B[22m\u001B[39m\t\u001B[0m%rcx\u001B[0m, \u001B[33m-8\u001B[39m\u001B[33m(\u001B[39m\u001B[0m%rax\u001B[33m)\u001B[39m\n",
      "\u001B[90m; │││└\u001B[39m\n",
      "\t\u001B[96m\u001B[1mmovq\u001B[22m\u001B[39m\t\u001B[0m%rax\u001B[0m, \u001B[33m40\u001B[39m\u001B[33m(\u001B[39m\u001B[0m%rsp\u001B[33m)\u001B[39m\n",
      "\u001B[90m; │││┌ @ interface.jl:11 within `Context` @ interface.jl:8\u001B[39m\n",
      "\t\u001B[96m\u001B[1mmovq\u001B[22m\u001B[39m\t\u001B[33m$186449928\u001B[39m\u001B[0m, \u001B[33m(\u001B[39m\u001B[0m%rax\u001B[33m)\u001B[39m              \u001B[90m# imm = 0xB1D0008\u001B[39m\n",
      "\t\u001B[96m\u001B[1mmovq\u001B[22m\u001B[39m\t\u001B[0m%rax\u001B[0m, \u001B[33m80\u001B[39m\u001B[33m(\u001B[39m\u001B[0m%rsp\u001B[33m)\u001B[39m\n",
      "\u001B[90m; │││└\u001B[39m\n",
      "\t\u001B[96m\u001B[1mmovabsq\u001B[22m\u001B[39m\t\u001B[93m$_pullback\u001B[39m\u001B[0m, \u001B[0m%rax\n",
      "\t\u001B[96m\u001B[1mmovl\u001B[22m\u001B[39m\t\u001B[33m$191018592\u001B[39m\u001B[0m, \u001B[0m%ecx                \u001B[90m# imm = 0xB62B660\u001B[39m\n",
      "\t\u001B[96m\u001B[1mmovq\u001B[22m\u001B[39m\t\u001B[0m%rbx\u001B[0m, \u001B[0m%rdx\n",
      "\t\u001B[96m\u001B[1mmovq\u001B[22m\u001B[39m\t\u001B[33m$1679620984\u001B[39m\u001B[0m, \u001B[33m48\u001B[39m\u001B[33m(\u001B[39m\u001B[0m%rsp\u001B[33m)\u001B[39m           \u001B[90m# imm = 0x641CFB78\u001B[39m\n",
      "\t\u001B[96m\u001B[1mmovq\u001B[22m\u001B[39m\t\u001B[0m%rsi\u001B[0m, \u001B[33m56\u001B[39m\u001B[33m(\u001B[39m\u001B[0m%rsp\u001B[33m)\u001B[39m\n",
      "\t\u001B[96m\u001B[1mcallq\u001B[22m\u001B[39m\t\u001B[0m*\u001B[0m%rax\n",
      "\t\u001B[96m\u001B[1mmovq\u001B[22m\u001B[39m\t\u001B[0m%rax\u001B[0m, \u001B[0m%rsi\n",
      "\u001B[90m; ││└\u001B[39m\n",
      "\u001B[90m; ││┌ @ tuple.jl:89 within `indexed_iterate` @ tuple.jl:89\u001B[39m\n",
      "\t\u001B[96m\u001B[1mmovabsq\u001B[22m\u001B[39m\t\u001B[93m$jl_f_getfield\u001B[39m\u001B[0m, \u001B[0m%r12\n",
      "\t\u001B[96m\u001B[1mxorl\u001B[22m\u001B[39m\t\u001B[0m%ecx\u001B[0m, \u001B[0m%ecx\n",
      "\t\u001B[96m\u001B[1mmovq\u001B[22m\u001B[39m\t\u001B[0m%rbx\u001B[0m, \u001B[0m%rdx\n",
      "\t\u001B[96m\u001B[1mmovl\u001B[22m\u001B[39m\t\u001B[33m$2\u001B[39m\u001B[0m, \u001B[0m%r8d\n",
      "\t\u001B[96m\u001B[1mmovq\u001B[22m\u001B[39m\t\u001B[0m%rsi\u001B[0m, \u001B[33m40\u001B[39m\u001B[33m(\u001B[39m\u001B[0m%rsp\u001B[33m)\u001B[39m\n",
      "\t\u001B[96m\u001B[1mmovq\u001B[22m\u001B[39m\t\u001B[0m%rsi\u001B[0m, \u001B[33m80\u001B[39m\u001B[33m(\u001B[39m\u001B[0m%rsp\u001B[33m)\u001B[39m\n",
      "\t\u001B[96m\u001B[1mmovq\u001B[22m\u001B[39m\t\u001B[33m$186482784\u001B[39m\u001B[0m, \u001B[33m48\u001B[39m\u001B[33m(\u001B[39m\u001B[0m%rsp\u001B[33m)\u001B[39m            \u001B[90m# imm = 0xB1D8060\u001B[39m\n",
      "\t\u001B[96m\u001B[1mcallq\u001B[22m\u001B[39m\t\u001B[0m*\u001B[0m%r12\n",
      "\t\u001B[96m\u001B[1mmovq\u001B[22m\u001B[39m\t\u001B[0m%rax\u001B[0m, \u001B[0m%rdi\n",
      "\u001B[90m; │││ @ tuple.jl:89 within `indexed_iterate`\u001B[39m\n",
      "\t\u001B[96m\u001B[1mxorl\u001B[22m\u001B[39m\t\u001B[0m%ecx\u001B[0m, \u001B[0m%ecx\n",
      "\t\u001B[96m\u001B[1mmovq\u001B[22m\u001B[39m\t\u001B[0m%rbx\u001B[0m, \u001B[0m%rdx\n",
      "\t\u001B[96m\u001B[1mmovl\u001B[22m\u001B[39m\t\u001B[33m$2\u001B[39m\u001B[0m, \u001B[0m%r8d\n",
      "\t\u001B[96m\u001B[1mmovq\u001B[22m\u001B[39m\t\u001B[0m%rsi\u001B[0m, \u001B[33m40\u001B[39m\u001B[33m(\u001B[39m\u001B[0m%rsp\u001B[33m)\u001B[39m\n",
      "\t\u001B[96m\u001B[1mmovq\u001B[22m\u001B[39m\t\u001B[33m$186482848\u001B[39m\u001B[0m, \u001B[33m48\u001B[39m\u001B[33m(\u001B[39m\u001B[0m%rsp\u001B[33m)\u001B[39m            \u001B[90m# imm = 0xB1D80A0\u001B[39m\n",
      "\t\u001B[96m\u001B[1mmovq\u001B[22m\u001B[39m\t\u001B[0m%rdi\u001B[0m, \u001B[33m96\u001B[39m\u001B[33m(\u001B[39m\u001B[0m%rsp\u001B[33m)\u001B[39m\n",
      "\t\u001B[96m\u001B[1mcallq\u001B[22m\u001B[39m\t\u001B[0m*\u001B[0m%r12\n",
      "\t\u001B[96m\u001B[1mmovq\u001B[22m\u001B[39m\t\u001B[0m%rax\u001B[0m, \u001B[0m%rsi\n",
      "\t\u001B[96m\u001B[1mmovl\u001B[22m\u001B[39m\t\u001B[33m$3871622416\u001B[39m\u001B[0m, \u001B[0m%ecx               \u001B[90m# imm = 0xE6C44510\u001B[39m\n",
      "\u001B[90m; │└└\u001B[39m\n",
      "\u001B[90m; │┌ @ interface.jl:41 within `pullback`\u001B[39m\n",
      "\t\u001B[96m\u001B[1mmovq\u001B[22m\u001B[39m\t\u001B[0m%rbx\u001B[0m, \u001B[0m%rdx\n",
      "\t\u001B[96m\u001B[1mmovl\u001B[22m\u001B[39m\t\u001B[33m$2\u001B[39m\u001B[0m, \u001B[0m%r8d\n",
      "\t\u001B[96m\u001B[1mmovq\u001B[22m\u001B[39m\t\u001B[33m-8\u001B[39m\u001B[33m(\u001B[39m\u001B[0m%rsi\u001B[33m)\u001B[39m\u001B[0m, \u001B[0m%rax\n",
      "\t\u001B[96m\u001B[1mmovq\u001B[22m\u001B[39m\t\u001B[0m%rcx\u001B[0m, \u001B[33m40\u001B[39m\u001B[33m(\u001B[39m\u001B[0m%rsp\u001B[33m)\u001B[39m\n",
      "\t\u001B[96m\u001B[1mxorl\u001B[22m\u001B[39m\t\u001B[0m%ecx\u001B[0m, \u001B[0m%ecx\n",
      "\t\u001B[96m\u001B[1mmovq\u001B[22m\u001B[39m\t\u001B[0m%rsi\u001B[0m, \u001B[33m80\u001B[39m\u001B[33m(\u001B[39m\u001B[0m%rsp\u001B[33m)\u001B[39m\n",
      "\t\u001B[96m\u001B[1mandq\u001B[22m\u001B[39m\t\u001B[33m$-16\u001B[39m\u001B[0m, \u001B[0m%rax\n",
      "\t\u001B[96m\u001B[1mmovq\u001B[22m\u001B[39m\t\u001B[0m%rax\u001B[0m, \u001B[33m48\u001B[39m\u001B[33m(\u001B[39m\u001B[0m%rsp\u001B[33m)\u001B[39m\n",
      "\t\u001B[96m\u001B[1mmovabsq\u001B[22m\u001B[39m\t\u001B[93m$jl_f_apply_type\u001B[39m\u001B[0m, \u001B[0m%rax\n",
      "\t\u001B[96m\u001B[1mcallq\u001B[22m\u001B[39m\t\u001B[0m*\u001B[0m%rax\n",
      "\t\u001B[96m\u001B[1mmovq\u001B[22m\u001B[39m\t\u001B[0m%rsi\u001B[0m, \u001B[33m40\u001B[39m\u001B[33m(\u001B[39m\u001B[0m%rsp\u001B[33m)\u001B[39m\n",
      "\t\u001B[96m\u001B[1mmovabsq\u001B[22m\u001B[39m\t\u001B[93m$jl_new_structv\u001B[39m\u001B[0m, \u001B[0m%rsi\n",
      "\t\u001B[96m\u001B[1mmovq\u001B[22m\u001B[39m\t\u001B[0m%rax\u001B[0m, \u001B[0m%rcx\n",
      "\t\u001B[96m\u001B[1mmovq\u001B[22m\u001B[39m\t\u001B[0m%rbx\u001B[0m, \u001B[0m%rdx\n",
      "\t\u001B[96m\u001B[1mmovl\u001B[22m\u001B[39m\t\u001B[33m$1\u001B[39m\u001B[0m, \u001B[0m%r8d\n",
      "\t\u001B[96m\u001B[1mmovq\u001B[22m\u001B[39m\t\u001B[0m%rax\u001B[0m, \u001B[33m104\u001B[39m\u001B[33m(\u001B[39m\u001B[0m%rsp\u001B[33m)\u001B[39m\n",
      "\t\u001B[96m\u001B[1mcallq\u001B[22m\u001B[39m\t\u001B[0m*\u001B[0m%rsi\n",
      "\t\u001B[96m\u001B[1mmovq\u001B[22m\u001B[39m\t\u001B[0m%rax\u001B[0m, \u001B[0m%rsi\n",
      "\u001B[90m; │└\u001B[39m\n",
      "\u001B[90m; │ @ interface.jl:76 within `gradient`\u001B[39m\n",
      "\t\u001B[96m\u001B[1mmovabsq\u001B[22m\u001B[39m\t\u001B[93m$jl_apply_generic\u001B[39m\u001B[0m, \u001B[0m%r12\n",
      "\t\u001B[96m\u001B[1mmovl\u001B[22m\u001B[39m\t\u001B[33m$3846825528\u001B[39m\u001B[0m, \u001B[0m%ecx               \u001B[90m# imm = 0xE549E638\u001B[39m\n",
      "\t\u001B[96m\u001B[1mmovq\u001B[22m\u001B[39m\t\u001B[0m%rbx\u001B[0m, \u001B[0m%rdx\n",
      "\t\u001B[96m\u001B[1mmovl\u001B[22m\u001B[39m\t\u001B[33m$1\u001B[39m\u001B[0m, \u001B[0m%r8d\n",
      "\t\u001B[96m\u001B[1mmovq\u001B[22m\u001B[39m\t\u001B[0m%rdi\u001B[0m, \u001B[33m40\u001B[39m\u001B[33m(\u001B[39m\u001B[0m%rsp\u001B[33m)\u001B[39m\n",
      "\t\u001B[96m\u001B[1mmovq\u001B[22m\u001B[39m\t\u001B[0m%rsi\u001B[0m, \u001B[33m80\u001B[39m\u001B[33m(\u001B[39m\u001B[0m%rsp\u001B[33m)\u001B[39m\n",
      "\t\u001B[96m\u001B[1mcallq\u001B[22m\u001B[39m\t\u001B[0m*\u001B[0m%r12\n",
      "\t\u001B[96m\u001B[1mmovq\u001B[22m\u001B[39m\t\u001B[0m%rsi\u001B[0m, \u001B[0m%rcx\n",
      "\t\u001B[96m\u001B[1mmovq\u001B[22m\u001B[39m\t\u001B[0m%rbx\u001B[0m, \u001B[0m%rdx\n",
      "\t\u001B[96m\u001B[1mmovl\u001B[22m\u001B[39m\t\u001B[33m$1\u001B[39m\u001B[0m, \u001B[0m%r8d\n",
      "\t\u001B[96m\u001B[1mmovq\u001B[22m\u001B[39m\t\u001B[0m%rax\u001B[0m, \u001B[33m96\u001B[39m\u001B[33m(\u001B[39m\u001B[0m%rsp\u001B[33m)\u001B[39m\n",
      "\t\u001B[96m\u001B[1mmovq\u001B[22m\u001B[39m\t\u001B[0m%rax\u001B[0m, \u001B[33m40\u001B[39m\u001B[33m(\u001B[39m\u001B[0m%rsp\u001B[33m)\u001B[39m\n",
      "\t\u001B[96m\u001B[1mcallq\u001B[22m\u001B[39m\t\u001B[0m*\u001B[0m%r12\n",
      "\t\u001B[96m\u001B[1mmovq\u001B[22m\u001B[39m\t\u001B[0m%rax\u001B[0m, \u001B[0m%rdi\n",
      "\u001B[90m; │ @ interface.jl:77 within `gradient`\u001B[39m\n",
      "\t\u001B[96m\u001B[1mmovq\u001B[22m\u001B[39m\t\u001B[33m-8\u001B[39m\u001B[33m(\u001B[39m\u001B[0m%rdi\u001B[33m)\u001B[39m\u001B[0m, \u001B[0m%rax\n",
      "\t\u001B[96m\u001B[1mandq\u001B[22m\u001B[39m\t\u001B[33m$-16\u001B[39m\u001B[0m, \u001B[0m%rax\n",
      "\t\u001B[96m\u001B[1mcmpq\u001B[22m\u001B[39m\t\u001B[33m$310599392\u001B[39m\u001B[0m, \u001B[0m%rax                \u001B[90m# imm = 0x12835EE0\u001B[39m\n",
      "\t\u001B[96m\u001B[1mje\u001B[22m\u001B[39m\t\u001B[91mL519\u001B[39m\n",
      "\u001B[90m; │ @ interface.jl within `gradient`\u001B[39m\n",
      "\t\u001B[96m\u001B[1mleaq\u001B[22m\u001B[39m\t\u001B[33m40\u001B[39m\u001B[33m(\u001B[39m\u001B[0m%rsp\u001B[33m)\u001B[39m\u001B[0m, \u001B[0m%rdx\n",
      "\u001B[90m; │ @ interface.jl:77 within `gradient`\u001B[39m\n",
      "\t\u001B[96m\u001B[1mmovl\u001B[22m\u001B[39m\t\u001B[33m$327697120\u001B[39m\u001B[0m, \u001B[0m%ecx                \u001B[90m# imm = 0x138842E0\u001B[39m\n",
      "\t\u001B[96m\u001B[1mmovl\u001B[22m\u001B[39m\t\u001B[33m$1\u001B[39m\u001B[0m, \u001B[0m%r8d\n",
      "\t\u001B[96m\u001B[1mmovq\u001B[22m\u001B[39m\t\u001B[0m%rdi\u001B[0m, \u001B[33m80\u001B[39m\u001B[33m(\u001B[39m\u001B[0m%rsp\u001B[33m)\u001B[39m\n",
      "\t\u001B[96m\u001B[1mmovq\u001B[22m\u001B[39m\t\u001B[0m%rdi\u001B[0m, \u001B[33m40\u001B[39m\u001B[33m(\u001B[39m\u001B[0m%rsp\u001B[33m)\u001B[39m\n",
      "\t\u001B[96m\u001B[1mcallq\u001B[22m\u001B[39m\t\u001B[0m*\u001B[0m%r12\n",
      "\t\u001B[96m\u001B[1mcmpb\u001B[22m\u001B[39m\t\u001B[33m$0\u001B[39m\u001B[0m, \u001B[33m(\u001B[39m\u001B[0m%rax\u001B[33m)\u001B[39m\n",
      "\t\u001B[96m\u001B[1mje\u001B[22m\u001B[39m\t\u001B[91mL547\u001B[39m\n",
      "\u001B[90m; │ @ interface.jl within `gradient`\u001B[39m\n",
      "\u001B[91mL519:\u001B[39m\n",
      "\t\u001B[96m\u001B[1mmovq\u001B[22m\u001B[39m\t\u001B[33m72\u001B[39m\u001B[33m(\u001B[39m\u001B[0m%rsp\u001B[33m)\u001B[39m\u001B[0m, \u001B[0m%rax\n",
      "\t\u001B[96m\u001B[1mmovq\u001B[22m\u001B[39m\t\u001B[0m%rax\u001B[0m, \u001B[33m(\u001B[39m\u001B[0m%r15\u001B[33m)\u001B[39m\n",
      "\u001B[90m; │ @ interface.jl:77 within `gradient`\u001B[39m\n",
      "\t\u001B[96m\u001B[1mmovl\u001B[22m\u001B[39m\t\u001B[33m$186449928\u001B[39m\u001B[0m, \u001B[0m%eax                \u001B[90m# imm = 0xB1D0008\u001B[39m\n",
      "\t\u001B[96m\u001B[1mleaq\u001B[22m\u001B[39m\t\u001B[33m-48\u001B[39m\u001B[33m(\u001B[39m\u001B[0m%rbp\u001B[33m)\u001B[39m\u001B[0m, \u001B[0m%rsp\n",
      "\t\u001B[96m\u001B[1mpopq\u001B[22m\u001B[39m\t\u001B[0m%rbx\n",
      "\t\u001B[96m\u001B[1mpopq\u001B[22m\u001B[39m\t\u001B[0m%rdi\n",
      "\t\u001B[96m\u001B[1mpopq\u001B[22m\u001B[39m\t\u001B[0m%rsi\n",
      "\t\u001B[96m\u001B[1mpopq\u001B[22m\u001B[39m\t\u001B[0m%r12\n",
      "\t\u001B[96m\u001B[1mpopq\u001B[22m\u001B[39m\t\u001B[0m%r14\n",
      "\t\u001B[96m\u001B[1mpopq\u001B[22m\u001B[39m\t\u001B[0m%r15\n",
      "\t\u001B[96m\u001B[1mpopq\u001B[22m\u001B[39m\t\u001B[0m%rbp\n",
      "\t\u001B[96m\u001B[1mretq\u001B[22m\u001B[39m\n",
      "\u001B[90m; │ @ interface.jl within `gradient`\u001B[39m\n",
      "\u001B[91mL547:\u001B[39m\n",
      "\t\u001B[96m\u001B[1mmovl\u001B[22m\u001B[39m\t\u001B[33m$3846825680\u001B[39m\u001B[0m, \u001B[0m%eax               \u001B[90m# imm = 0xE549E6D0\u001B[39m\n",
      "\t\u001B[96m\u001B[1mleaq\u001B[22m\u001B[39m\t\u001B[33m40\u001B[39m\u001B[33m(\u001B[39m\u001B[0m%rsp\u001B[33m)\u001B[39m\u001B[0m, \u001B[0m%rdx\n",
      "\u001B[90m; │ @ interface.jl:77 within `gradient`\u001B[39m\n",
      "\t\u001B[96m\u001B[1mmovl\u001B[22m\u001B[39m\t\u001B[33m$367501008\u001B[39m\u001B[0m, \u001B[0m%ecx                \u001B[90m# imm = 0x15E79ED0\u001B[39m\n",
      "\t\u001B[96m\u001B[1mmovl\u001B[22m\u001B[39m\t\u001B[33m$3\u001B[39m\u001B[0m, \u001B[0m%r8d\n",
      "\t\u001B[96m\u001B[1mmovq\u001B[22m\u001B[39m\t\u001B[0m%rax\u001B[0m, \u001B[33m40\u001B[39m\u001B[33m(\u001B[39m\u001B[0m%rsp\u001B[33m)\u001B[39m\n",
      "\t\u001B[96m\u001B[1mmovq\u001B[22m\u001B[39m\t\u001B[0m%r14\u001B[0m, \u001B[33m48\u001B[39m\u001B[33m(\u001B[39m\u001B[0m%rsp\u001B[33m)\u001B[39m\n",
      "\t\u001B[96m\u001B[1mmovq\u001B[22m\u001B[39m\t\u001B[0m%rdi\u001B[0m, \u001B[33m56\u001B[39m\u001B[33m(\u001B[39m\u001B[0m%rsp\u001B[33m)\u001B[39m\n",
      "\t\u001B[96m\u001B[1mcallq\u001B[22m\u001B[39m\t\u001B[0m*\u001B[0m%r12\n",
      "\t\u001B[96m\u001B[1mmovq\u001B[22m\u001B[39m\t\u001B[33m72\u001B[39m\u001B[33m(\u001B[39m\u001B[0m%rsp\u001B[33m)\u001B[39m\u001B[0m, \u001B[0m%rcx\n",
      "\t\u001B[96m\u001B[1mmovq\u001B[22m\u001B[39m\t\u001B[0m%rcx\u001B[0m, \u001B[33m(\u001B[39m\u001B[0m%r15\u001B[33m)\u001B[39m\n",
      "\t\u001B[96m\u001B[1mleaq\u001B[22m\u001B[39m\t\u001B[33m-48\u001B[39m\u001B[33m(\u001B[39m\u001B[0m%rbp\u001B[33m)\u001B[39m\u001B[0m, \u001B[0m%rsp\n",
      "\t\u001B[96m\u001B[1mpopq\u001B[22m\u001B[39m\t\u001B[0m%rbx\n",
      "\t\u001B[96m\u001B[1mpopq\u001B[22m\u001B[39m\t\u001B[0m%rdi\n",
      "\t\u001B[96m\u001B[1mpopq\u001B[22m\u001B[39m\t\u001B[0m%rsi\n",
      "\t\u001B[96m\u001B[1mpopq\u001B[22m\u001B[39m\t\u001B[0m%r12\n",
      "\t\u001B[96m\u001B[1mpopq\u001B[22m\u001B[39m\t\u001B[0m%r14\n",
      "\t\u001B[96m\u001B[1mpopq\u001B[22m\u001B[39m\t\u001B[0m%r15\n",
      "\t\u001B[96m\u001B[1mpopq\u001B[22m\u001B[39m\t\u001B[0m%rbp\n",
      "\t\u001B[96m\u001B[1mretq\u001B[22m\u001B[39m\n",
      "\u001B[90m; │ @ interface.jl:75 within `gradient`\u001B[39m\n",
      "\u001B[91mL609:\u001B[39m\n",
      "\t\u001B[96m\u001B[1mmovabsq\u001B[22m\u001B[39m\t\u001B[93m$jl_bounds_error_tuple_int\u001B[39m\u001B[0m, \u001B[0m%rax\n",
      "\t\u001B[96m\u001B[1mmovl\u001B[22m\u001B[39m\t\u001B[33m$1\u001B[39m\u001B[0m, \u001B[0m%r8d\n",
      "\t\u001B[96m\u001B[1mmovq\u001B[22m\u001B[39m\t\u001B[0m%rbx\u001B[0m, \u001B[0m%rcx\n",
      "\t\u001B[96m\u001B[1mxorl\u001B[22m\u001B[39m\t\u001B[0m%edx\u001B[0m, \u001B[0m%edx\n",
      "\t\u001B[96m\u001B[1mcallq\u001B[22m\u001B[39m\t\u001B[0m*\u001B[0m%rax\n",
      "\u001B[90m; └\u001B[39m\n"
     ]
    }
   ],
   "source": [
    "@code_native gradient(loss, x)"
   ]
  },
  {
   "cell_type": "code",
   "execution_count": null,
   "metadata": {
    "pycharm": {
     "name": "#%%\n"
    }
   },
   "outputs": [],
   "source": []
  }
 ],
 "metadata": {
  "kernelspec": {
   "display_name": "Julia 1.7.3",
   "language": "julia",
   "name": "julia-1.7"
  },
  "language_info": {
   "file_extension": ".jl",
   "mimetype": "application/julia",
   "name": "julia",
   "version": "1.7.3"
  },
  "varInspector": {
   "cols": {
    "lenName": 16,
    "lenType": 16,
    "lenVar": 40
   },
   "kernels_config": {
    "python": {
     "delete_cmd_postfix": "",
     "delete_cmd_prefix": "del ",
     "library": "var_list.py",
     "varRefreshCmd": "print(var_dic_list())"
    },
    "r": {
     "delete_cmd_postfix": ") ",
     "delete_cmd_prefix": "rm(",
     "library": "var_list.r",
     "varRefreshCmd": "cat(var_dic_list()) "
    }
   },
   "types_to_exclude": [
    "module",
    "function",
    "builtin_function_or_method",
    "instance",
    "_Feature"
   ],
   "window_display": false
  }
 },
 "nbformat": 4,
 "nbformat_minor": 4
}